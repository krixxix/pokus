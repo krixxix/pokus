{
 "cells": [
  {
   "cell_type": "markdown",
   "id": "995b48b9",
   "metadata": {},
   "source": [
    "# Ahoj"
   ]
  },
  {
   "cell_type": "markdown",
   "id": "2ddb92be",
   "metadata": {},
   "source": [
    "![ahoj](ahoj.png)"
   ]
  }
 ],
 "metadata": {
  "language_info": {
   "name": "python"
  }
 },
 "nbformat": 4,
 "nbformat_minor": 5
}
