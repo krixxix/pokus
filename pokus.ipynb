{
 "cells": [
  {
   "cell_type": "markdown",
   "id": "995b48b9",
   "metadata": {},
   "source": [
    "# Ahoj"
   ]
  },
  {
   "cell_type": "markdown",
   "id": "2ddb92be",
   "metadata": {},
   "source": [
    "![ahoj](ahoj.png)"
   ]
  },
  {
   "cell_type": "markdown",
   "id": "2c330167",
   "metadata": {},
   "source": [
    "![eee](figures/juhu.png)"
   ]
  }
 ],
 "metadata": {
  "language_info": {
   "name": "python"
  }
 },
 "nbformat": 4,
 "nbformat_minor": 5
}
