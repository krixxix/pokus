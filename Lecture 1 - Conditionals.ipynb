{
 "cells": [
  {
   "cell_type": "markdown",
   "metadata": {
    "cell_id": "c35141cb3ce54a8e9670cb46665033c8",
    "deepnote_cell_type": "text-cell-h1",
    "formattedRanges": []
   },
   "source": [
    "# Lecture 1 - Conditionals"
   ]
  },
  {
   "cell_type": "markdown",
   "metadata": {
    "cell_id": "f0e7891696d34a41a93535c5063faaa4",
    "deepnote_cell_type": "text-cell-p",
    "formattedRanges": []
   },
   "source": [
    "Python comes with these symbols:"
   ]
  },
  {
   "cell_type": "markdown",
   "metadata": {
    "cell_id": "7c660140ef1d460797c5d376feb934be",
    "deepnote_cell_type": "text-cell-p",
    "formattedRanges": []
   },
   "source": [
    "<, >, >=, <, <=, ==, !='''"
   ]
  },
  {
   "cell_type": "markdown",
   "metadata": {
    "cell_id": "66ff3fd08176443a9280da8bc8bf7b88",
    "deepnote_cell_type": "text-cell-p",
    "formattedRanges": []
   },
   "source": [
    "we can use these symbols to ask questions"
   ]
  },
  {
   "cell_type": "markdown",
   "metadata": {
    "cell_id": "320a79e3871245609500ad19d33839c7",
    "deepnote_cell_type": "text-cell-h2",
    "formattedRanges": []
   },
   "source": [
    "## IF statement"
   ]
  },
  {
   "cell_type": "code",
   "execution_count": null,
   "metadata": {
    "cell_id": "848d9b2b822f4dac8d41c1016e341881",
    "deepnote_cell_type": "code",
    "deepnote_to_be_reexecuted": false,
    "execution_millis": 4873,
    "execution_start": 1721669655651,
    "source_hash": null
   },
   "outputs": [
    {
     "name": "stdout",
     "output_type": "stream",
     "text": [
      "x is equal to y\n"
     ]
    }
   ],
   "source": [
    "x = int(input(\"What's x? \"))\n",
    "y = int(input(\"What's y? \"))\n",
    "\n",
    "if x < y:\n",
    "    print(\"x is less than y\")\n",
    "if x > y:\n",
    "    print(\"x is greater than y\")\n",
    "if x ==y:\n",
    "    print(\"x is equal to y\")"
   ]
  },
  {
   "cell_type": "markdown",
   "metadata": {
    "cell_id": "49a267abc82e42cbbf329285db411abd",
    "deepnote_cell_type": "text-cell-p",
    "formattedRanges": []
   },
   "source": [
    "How did Python evaluate this? (Diamond shape symbols - yes = go left, no = go right)"
   ]
  },
  {
   "cell_type": "markdown",
   "metadata": {},
   "source": [
    "![popis](./figures/1.png)"
   ]
  },
  {
   "cell_type": "markdown",
   "metadata": {},
   "source": [
    "![hoho](./ahoj.png)"
   ]
  },
  {
   "cell_type": "markdown",
   "metadata": {
    "cell_id": "12080a9cae354285a5d7601b3e92b62e",
    "deepnote_cell_type": "text-cell-p",
    "formattedRanges": []
   },
   "source": [
    "Is this effective? No. Why? Because even if the first question is answered yes (which means the other 2 questions may not be true), Python still needs to run through all these ifs anyway. It’d be better if when the condition is met, we jump to the end."
   ]
  },
  {
   "cell_type": "markdown",
   "metadata": {
    "cell_id": "8a9d91be4bf8404f8dadda683837d7a5",
    "deepnote_cell_type": "text-cell-p",
    "formattedRanges": [
     {
      "fromCodePoint": 56,
      "marks": {
       "bold": true
      },
      "toCodePoint": 60,
      "type": "marks"
     }
    ]
   },
   "source": [
    "I.e. No matter what, I’m always asking 3 questions. The ELIF will help us."
   ]
  },
  {
   "cell_type": "code",
   "execution_count": null,
   "metadata": {
    "cell_id": "5470cafd51954558894ae7f33ae72a1a",
    "deepnote_cell_type": "code",
    "deepnote_to_be_reexecuted": false,
    "execution_millis": 3922,
    "execution_start": 1721670146443,
    "source_hash": null
   },
   "outputs": [
    {
     "name": "stdout",
     "output_type": "stream",
     "text": [
      "x is less than y\n"
     ]
    }
   ],
   "source": [
    "x = int(input(\"What's x? \"))\n",
    "y = int(input(\"What's y? \"))\n",
    "\n",
    "if x < y:\n",
    "    print(\"x is less than y\")\n",
    "elif x > y:\n",
    "    print(\"x is greater than y\")\n",
    "elif x ==y:\n",
    "    print(\"x is equal to y\")"
   ]
  },
  {
   "cell_type": "markdown",
   "metadata": {
    "cell_id": "273b74319d5f4a85937310349f1aef95",
    "deepnote_cell_type": "image",
    "deepnote_img_src": "image-20240722-194356.png"
   },
   "source": [
    "<img src=\"figures/image-20240722-194356.png\"/>"
   ]
  },
  {
   "cell_type": "markdown",
   "metadata": {
    "cell_id": "fc5c33e93d784f34a14bdb89a45e8df3",
    "deepnote_cell_type": "text-cell-p",
    "formattedRanges": [
     {
      "fromCodePoint": 100,
      "marks": {
       "bold": true
      },
      "toCodePoint": 104,
      "type": "marks"
     }
    ]
   },
   "source": [
    "The code above is still not perfect. The last question is redundant. We can solve this by using the ELSE statement."
   ]
  },
  {
   "cell_type": "code",
   "execution_count": null,
   "metadata": {
    "cell_id": "64f32b041bbb4e3e8d762d5c409ac3a7",
    "deepnote_cell_type": "code",
    "deepnote_to_be_reexecuted": false,
    "execution_millis": 2396,
    "execution_start": 1721670635101,
    "source_hash": null
   },
   "outputs": [
    {
     "name": "stdout",
     "output_type": "stream",
     "text": [
      "x is equal to y\n"
     ]
    }
   ],
   "source": [
    "x = int(input(\"What's x? \"))\n",
    "y = int(input(\"What's y? \"))\n",
    "\n",
    "if x < y:\n",
    "    print(\"x is less than y\")\n",
    "elif x > y:\n",
    "    print(\"x is greater than y\")\n",
    "else:\n",
    "    print(\"x is equal to y\")"
   ]
  },
  {
   "cell_type": "markdown",
   "metadata": {
    "cell_id": "6f133e7170da4339925de15e9429e115",
    "deepnote_cell_type": "text-cell-p",
    "formattedRanges": []
   },
   "source": [
    "The final diagram looks like this: (I only have 2 questions now)"
   ]
  },
  {
   "cell_type": "markdown",
   "metadata": {
    "cell_id": "c226ffb8671e4a2b8cb15cf7256c294a",
    "deepnote_cell_type": "image",
    "deepnote_img_src": "image-20240722-195157.png",
    "deepnote_img_width": "50%"
   },
   "source": [
    "<img src=\"figures/image-20240722-195157.png\" width=\"30%\" align=\"\" />"
   ]
  },
  {
   "cell_type": "markdown",
   "metadata": {
    "cell_id": "3a5bf09c21224745b005ee5b8e607bf4",
    "deepnote_cell_type": "text-cell-h2",
    "formattedRanges": []
   },
   "source": [
    "## LOGICAL OR"
   ]
  },
  {
   "cell_type": "code",
   "execution_count": null,
   "metadata": {
    "cell_id": "976ea8a1af7e41169aa243df4a1c52ff",
    "deepnote_cell_type": "code"
   },
   "outputs": [],
   "source": [
    "x = int(input(\"What's x? \"))\n",
    "y = int(input(\"What's y? \"))\n",
    "\n",
    "if x < y or x > y:\n",
    "    print(\"x is not equal to y\")\n",
    "else:\n",
    "    print(\"x is equal to y\")"
   ]
  },
  {
   "cell_type": "markdown",
   "metadata": {
    "cell_id": "c4eddc2fe4614a8daec626b133cd829d",
    "deepnote_cell_type": "image",
    "deepnote_img_src": "image-20240722-195635.png",
    "deepnote_img_width": "50%"
   },
   "source": [
    "<img src=\"figures/image-20240722-195635.png\" width=\"25%\" align=\"\" />"
   ]
  },
  {
   "cell_type": "markdown",
   "metadata": {
    "cell_id": "c98863e525184ab581c14df0d53bccc1",
    "deepnote_cell_type": "text-cell-h2",
    "formattedRanges": []
   },
   "source": [
    "## LOGICAL AND"
   ]
  },
  {
   "cell_type": "code",
   "execution_count": null,
   "metadata": {
    "cell_id": "99ac1c95d2864c2d885ee559efc8f51b",
    "deepnote_cell_type": "code"
   },
   "outputs": [],
   "source": [
    "# APPROACH 1\n",
    "score = int(intput(\"Score: \"))\n",
    "\n",
    "if score >= 90 and score <= 100:\n",
    "    print(\"Grade: A\")\n",
    "elif score >= 80 and score < 90:\n",
    "    print(\"Grade: B\")\n",
    "elif score >= 70 and score < 80:\n",
    "    print(\"Grade: C\")\n",
    "elif score >= 60 and score < 70:\n",
    "    print(\"Grade: D\")\n",
    "else:\n",
    "    print(\"Grade: F\")\n"
   ]
  },
  {
   "cell_type": "code",
   "execution_count": null,
   "metadata": {
    "cell_id": "666d0818e9ea45c78ba2d161aca37fa2",
    "deepnote_cell_type": "code"
   },
   "outputs": [],
   "source": [
    "# APPROACH 2: I can switch the order\n",
    "score = int(intput(\"Score: \"))\n",
    "\n",
    "if 90 <= score and score <= 100:\n",
    "    print(\"Grade: A\")\n",
    "elif 80 <= score and score < 90:\n",
    "    print(\"Grade: B\")\n",
    "elif 70 <= score and score < 80:\n",
    "    print(\"Grade: C\")\n",
    "elif 60 <= score and score < 70:\n",
    "    print(\"Grade: D\")\n",
    "else:\n",
    "    print(\"Grade: F\")"
   ]
  },
  {
   "cell_type": "code",
   "execution_count": null,
   "metadata": {
    "cell_id": "56061d55b8914edfa17e83fc24d27d2a",
    "deepnote_cell_type": "code"
   },
   "outputs": [],
   "source": [
    "# APPROACH 3: I can omit the AND\n",
    "score = int(intput(\"Score: \"))\n",
    "\n",
    "if 90 <= score <= 100:\n",
    "    print(\"Grade: A\")\n",
    "elif 80 <= score < 90:\n",
    "    print(\"Grade: B\")\n",
    "elif 70 <= score < 80:\n",
    "    print(\"Grade: C\")\n",
    "elif 60 <= score < 70:\n",
    "    print(\"Grade: D\")\n",
    "else:\n",
    "    print(\"Grade: F\")"
   ]
  },
  {
   "cell_type": "code",
   "execution_count": null,
   "metadata": {
    "cell_id": "956947084be6445ebeeca039f5f7cc55",
    "deepnote_cell_type": "code"
   },
   "outputs": [],
   "source": [
    "#I can simplify it with\n",
    "\n",
    "if score >= 90:\n",
    "    print(\"Grade: A\")\n",
    "elif score >= 80:\n",
    "    print(\"Grade: B\")\n",
    "elif score >= 70:\n",
    "    print(\"Grade: C\")\n",
    "elif score >= 60:\n",
    "    print(\"Grade: D\")\n",
    "else:\n",
    "    print(\"Grade: F\")"
   ]
  },
  {
   "cell_type": "markdown",
   "metadata": {
    "cell_id": "9b0ee907a31343aa9b4afbf5e17e5661",
    "deepnote_app_block_visible": false,
    "deepnote_cell_type": "text-cell-h2",
    "formattedRanges": [],
    "is_collapsed": false
   },
   "source": [
    "## ARITHMETIC OPERATORS"
   ]
  },
  {
   "cell_type": "markdown",
   "metadata": {
    "cell_id": "8e6b3fcf921f403fb58d22dcafceb401",
    "deepnote_app_block_visible": false,
    "deepnote_cell_type": "text-cell-p",
    "formattedRanges": [],
    "is_collapsed": false
   },
   "source": [
    "Some operators are obvious like +, -, *, / "
   ]
  },
  {
   "cell_type": "markdown",
   "metadata": {
    "cell_id": "83a638638f1b4f0792a0d5a0a112142c",
    "deepnote_app_block_visible": false,
    "deepnote_cell_type": "text-cell-p",
    "formattedRanges": [
     {
      "fromCodePoint": 49,
      "marks": {
       "bold": true
      },
      "toCodePoint": 64,
      "type": "marks"
     }
    ],
    "is_collapsed": false
   },
   "source": [
    "There is one that might not be that obvious: % = MODULO OPERATOR (we use it to calculate remainder?) when dividing 2 numbers"
   ]
  },
  {
   "cell_type": "markdown",
   "metadata": {
    "cell_id": "07d5e9d0818a47ca996c9d71874cd71d",
    "deepnote_app_block_visible": false,
    "deepnote_cell_type": "text-cell-p",
    "formattedRanges": [],
    "is_collapsed": false
   },
   "source": [
    "Examples:\n",
    "- 1%3 = 1 \n",
    "    - trojka se do jedničky nevejde ani jednou, zbytek do jedničky je 1\n",
    "- 2%3 = 2\n",
    "    - trojka se do dvojky nevejde ani jednou, zbytek do dvojky je 2\n",
    "- 3%3 = 0\n",
    "    - trojka do trojky se vejde právě jednou, zbytek je 0\n",
    "- 4%3 = 1\n",
    "    - trojka do čtyřky se vejde jednou, zbytek do čtyřky je 1\n",
    "- 5%3 = 2\n",
    "    - trojka do pětky se vejde jednou, zbytek do pětky je 2\n",
    "\n",
    "… how much is left over after dividing number by another"
   ]
  },
  {
   "cell_type": "code",
   "execution_count": null,
   "metadata": {
    "cell_id": "22924df6542d4cccad42ede7e7736517",
    "deepnote_cell_type": "code",
    "deepnote_to_be_reexecuted": false,
    "execution_millis": 5816,
    "execution_start": 1721672902625,
    "source_hash": null
   },
   "outputs": [
    {
     "name": "stdout",
     "output_type": "stream",
     "text": [
      "x is even\n"
     ]
    }
   ],
   "source": [
    "# Finding if a number is even or odd\n",
    "\n",
    "x = int(input(\"What's x? \"))\n",
    "\n",
    "if x % 2 == 0:\n",
    "    print(\"Even\")\n",
    "else:\n",
    "    print(\"Odd\")"
   ]
  },
  {
   "cell_type": "markdown",
   "metadata": {
    "cell_id": "b7ebf28027b8494f83f42a8ca46fddc1",
    "deepnote_app_block_visible": false,
    "deepnote_cell_type": "text-cell-p",
    "formattedRanges": [],
    "is_collapsed": false
   },
   "source": [
    "… but now we rewrite it using the approach with main()"
   ]
  },
  {
   "cell_type": "code",
   "execution_count": null,
   "metadata": {
    "cell_id": "1de3e37c19994fa6a6369831230c39fc",
    "deepnote_cell_type": "code",
    "deepnote_to_be_reexecuted": false,
    "execution_millis": 2754,
    "execution_start": 1721673247673,
    "source_hash": null
   },
   "outputs": [
    {
     "name": "stdout",
     "output_type": "stream",
     "text": [
      "Odd\n"
     ]
    }
   ],
   "source": [
    "def main():\n",
    "    number = int(input(\"What's x? \"))\n",
    "    if is_even(number):\n",
    "        print(\"Even\")\n",
    "    else:\n",
    "        print(\"Odd\")\n",
    "\n",
    "def is_even(n):\n",
    "    if n % 2 == 0:\n",
    "        return True\n",
    "    else:\n",
    "        return False\n",
    "\n",
    "main()"
   ]
  },
  {
   "cell_type": "markdown",
   "metadata": {
    "cell_id": "658741be635440f5a993ad084d609bbf",
    "deepnote_cell_type": "text-cell-p",
    "formattedRanges": []
   },
   "source": [
    "We can recreate this with something “pythonic” (exclusive for python):"
   ]
  },
  {
   "cell_type": "code",
   "execution_count": null,
   "metadata": {
    "cell_id": "ac4f81bfb0db45e69e08c1db10f16259",
    "deepnote_cell_type": "code"
   },
   "outputs": [],
   "source": [
    "def main():\n",
    "    number = int(input(\"What's x? \"))\n",
    "    if is_even(number):\n",
    "        print(\"Even\")\n",
    "    else:\n",
    "        print(\"Odd\")\n",
    "\n",
    "def is_even(n):\n",
    "    return True if n % 2 == 0 else False # and we simplify this even more in the following block:\n",
    "\n",
    "main()"
   ]
  },
  {
   "cell_type": "code",
   "execution_count": null,
   "metadata": {
    "cell_id": "7dc87c0f87e84b76aa9372ef924d16b2",
    "deepnote_cell_type": "code"
   },
   "outputs": [],
   "source": [
    "def main():\n",
    "    number = int(input(\"What's x? \"))\n",
    "    if is_even(number):\n",
    "        print(\"Even\")\n",
    "    else:\n",
    "        print(\"Odd\")\n",
    "\n",
    "def is_even(n):\n",
    "    return n % 2 == 0\n",
    "\n",
    "main()"
   ]
  },
  {
   "cell_type": "markdown",
   "metadata": {
    "cell_id": "46396cd136474846a5195cce53b80012",
    "deepnote_cell_type": "text-cell-h2",
    "formattedRanges": []
   },
   "source": [
    "## MATCH"
   ]
  },
  {
   "cell_type": "markdown",
   "metadata": {
    "cell_id": "df3e1826b27f4a389aa469523f67372c",
    "deepnote_cell_type": "text-cell-p",
    "formattedRanges": []
   },
   "source": [
    "something similar to a switch"
   ]
  },
  {
   "cell_type": "code",
   "execution_count": null,
   "metadata": {
    "cell_id": "add9829a507a4f078ec291b182b41ab0",
    "deepnote_cell_type": "code",
    "deepnote_to_be_reexecuted": false,
    "execution_millis": 3515,
    "execution_start": 1721673942987,
    "source_hash": null
   },
   "outputs": [
    {
     "name": "stdout",
     "output_type": "stream",
     "text": [
      "Gryffindor\n"
     ]
    }
   ],
   "source": [
    "name = input(\"What's your name? \")\n",
    "\n",
    "if name == \"Harry\":\n",
    "    print(\"Gryffindor\")\n",
    "elif name == \"Hermione\":\n",
    "    print(\"Gryffindor\")\n",
    "elif name == \"Ron\":\n",
    "    print(\"Gryffindor\")\n",
    "elif name == \"Draco\":\n",
    "    print(\"Slytherin\")\n",
    "else:\n",
    "    print(\"Who?\")"
   ]
  },
  {
   "cell_type": "markdown",
   "metadata": {
    "cell_id": "b284c0e5bdfb467697a158ad0727202e",
    "deepnote_cell_type": "text-cell-p",
    "formattedRanges": []
   },
   "source": [
    "The first simplification:"
   ]
  },
  {
   "cell_type": "code",
   "execution_count": null,
   "metadata": {
    "cell_id": "c068a5d01f374aa1930d24538f260786",
    "deepnote_cell_type": "code"
   },
   "outputs": [],
   "source": [
    "name = input(\"What's your name? \")\n",
    "\n",
    "if name == \"Harry\" or name == \"Hermione\" or name == \"Ron\":\n",
    "    print(\"Gryffindor\")\n",
    "elif name == \"Draco\":\n",
    "    print(\"Slytherin\")\n",
    "else:\n",
    "    print(\"Who?\")"
   ]
  },
  {
   "cell_type": "markdown",
   "metadata": {
    "cell_id": "b9f2dbf0487a4f58830ab5392368c13c",
    "deepnote_cell_type": "text-cell-p",
    "formattedRanges": [
     {
      "fromCodePoint": 18,
      "marks": {
       "bold": true
      },
      "toCodePoint": 23,
      "type": "marks"
     }
    ]
   },
   "source": [
    "Finally using the MATCH"
   ]
  },
  {
   "cell_type": "code",
   "execution_count": null,
   "metadata": {
    "cell_id": "47950d076fad4bd890c7142f4866d277",
    "deepnote_cell_type": "code",
    "deepnote_to_be_reexecuted": false,
    "execution_millis": 4567,
    "execution_start": 1721888763731,
    "source_hash": null
   },
   "outputs": [
    {
     "name": "stdout",
     "output_type": "stream",
     "text": [
      "Gryffindor\n"
     ]
    }
   ],
   "source": [
    "# THIS CODE DOES NOT WORK FOR ME FOR SOME REASON\n",
    "name = input(\"What's your name? \")\n",
    "\n",
    "match name:\n",
    "    case \"Harry\":\n",
    "        print(\"Gryffindor\")\n",
    "    case \"Hermione\":\n",
    "        print(\"Gryffindor\")\n",
    "    case \"Ron\":\n",
    "        print(\"Gryffindor\")\n",
    "    case \"Draco\":\n",
    "        print(\"Slytherin\")\n",
    "    case _:\n",
    "        print(\"Who?\")\n"
   ]
  },
  {
   "cell_type": "markdown",
   "metadata": {
    "cell_id": "fc23893a683a4e95be4205a25131fe32",
    "deepnote_cell_type": "text-cell-p",
    "formattedRanges": []
   },
   "source": [
    "Further symplification:"
   ]
  },
  {
   "cell_type": "code",
   "execution_count": null,
   "metadata": {
    "cell_id": "25542c959a78450682634bb82523caab",
    "deepnote_cell_type": "code",
    "deepnote_to_be_reexecuted": false,
    "execution_millis": 4770,
    "execution_start": 1721888753987,
    "source_hash": null
   },
   "outputs": [
    {
     "name": "stdout",
     "output_type": "stream",
     "text": [
      "Gryffindor\n"
     ]
    }
   ],
   "source": [
    "# ALSO DOES NOT WORK :(\n",
    "name = input(\"What's your name? \")\n",
    "\n",
    "match name:\n",
    "    case \"Harry\" | \"Hermione\" | \"Ron\":\n",
    "        print(\"Gryffindor\")\n",
    "    case \"Draco\":\n",
    "        print(\"Slytherin\")\n",
    "    case _:\n",
    "        print(\"Who?\")"
   ]
  }
 ],
 "metadata": {
  "deepnote_execution_queue": [],
  "deepnote_notebook_id": "fc64dff74e0a40d9904982c89a2a983e",
  "language_info": {
   "name": "python"
  }
 },
 "nbformat": 4,
 "nbformat_minor": 0
}
