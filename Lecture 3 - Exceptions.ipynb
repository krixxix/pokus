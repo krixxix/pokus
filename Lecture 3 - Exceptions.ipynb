{
 "cells": [
  {
   "cell_type": "markdown",
   "metadata": {
    "cell_id": "e5851cd766a94dbd9d8ae8113867f3ee",
    "deepnote_cell_type": "text-cell-h1",
    "formattedRanges": [],
    "id": "eMDfbK0_jtaj"
   },
   "source": [
    "# Lecture 3 - Exceptions"
   ]
  },
  {
   "cell_type": "markdown",
   "metadata": {
    "cell_id": "44e55ea2b3c54535b415d1fe521ab2fb",
    "deepnote_cell_type": "text-cell-p",
    "formattedRanges": [],
    "id": "Xlhqxjjojtak"
   },
   "source": [
    "exceptions reffer to problems in your code"
   ]
  },
  {
   "cell_type": "markdown",
   "metadata": {
    "cell_id": "94966875088f4617a011b203f477a7cb",
    "deepnote_cell_type": "text-cell-p",
    "formattedRanges": [],
    "id": "ZYZTD8Rnjtak"
   },
   "source": [
    "when something is exceptional it means someting went wrong"
   ]
  },
  {
   "cell_type": "code",
   "execution_count": null,
   "metadata": {
    "cell_id": "ecf701a4f87a43ba83c128c08506b4d7",
    "deepnote_cell_type": "code",
    "deepnote_to_be_reexecuted": false,
    "execution_millis": 13,
    "execution_start": 1722506258856,
    "id": "Ymp3mlVXjtak",
    "outputId": "e6ca3f28-de63-4ae5-f98e-cc37c143a7ea",
    "source_hash": null
   },
   "outputs": [
    {
     "ename": "SyntaxError",
     "evalue": "unterminated string literal (detected at line 1) (1807429930.py, line 1)",
     "output_type": "error",
     "traceback": [
      "\u001b[0;36m  Cell \u001b[0;32mIn [1], line 1\u001b[0;36m\u001b[0m\n\u001b[0;31m    print(\"hello, world)\u001b[0m\n\u001b[0m          ^\u001b[0m\n\u001b[0;31mSyntaxError\u001b[0m\u001b[0;31m:\u001b[0m unterminated string literal (detected at line 1)\n"
     ]
    }
   ],
   "source": [
    "print(\"hello, world)"
   ]
  },
  {
   "cell_type": "markdown",
   "metadata": {
    "cell_id": "499c46e3152e410b88f83f6fbbcf9af5",
    "deepnote_cell_type": "text-cell-p",
    "formattedRanges": [
     {
      "fromCodePoint": 0,
      "marks": {
       "bold": true
      },
      "toCodePoint": 12,
      "type": "marks"
     }
    ],
    "id": "iaMJTlk4jtal"
   },
   "source": [
    "SYNTAX ERROR: I forgot to insert the ending \""
   ]
  },
  {
   "cell_type": "code",
   "execution_count": null,
   "metadata": {
    "cell_id": "7fe689088807403a967103e6df117c72",
    "deepnote_cell_type": "code",
    "deepnote_to_be_reexecuted": false,
    "execution_millis": 2157,
    "execution_start": 1722506688712,
    "id": "5V1tmW9hjtal",
    "outputId": "94631565-b1e5-444f-d3c9-51f855cfb3f8",
    "source_hash": null
   },
   "outputs": [
    {
     "ename": "ValueError",
     "evalue": "invalid literal for int() with base 10: 'x'",
     "output_type": "error",
     "traceback": [
      "\u001b[0;31m---------------------------------------------------------------------------\u001b[0m",
      "\u001b[0;31mValueError\u001b[0m                                Traceback (most recent call last)",
      "Cell \u001b[0;32mIn [2], line 1\u001b[0m\n\u001b[0;32m----> 1\u001b[0m x \u001b[38;5;241m=\u001b[39m \u001b[38;5;28;43mint\u001b[39;49m\u001b[43m(\u001b[49m\u001b[38;5;28;43minput\u001b[39;49m\u001b[43m(\u001b[49m\u001b[38;5;124;43m\"\u001b[39;49m\u001b[38;5;124;43mWhat´s x? \u001b[39;49m\u001b[38;5;124;43m\"\u001b[39;49m\u001b[43m)\u001b[49m\u001b[43m)\u001b[49m\n\u001b[1;32m      2\u001b[0m \u001b[38;5;28mprint\u001b[39m(f(\u001b[38;5;124m\"\u001b[39m\u001b[38;5;124mx is \u001b[39m\u001b[38;5;132;01m{x}\u001b[39;00m\u001b[38;5;124m\"\u001b[39m))\n",
      "\u001b[0;31mValueError\u001b[0m: invalid literal for int() with base 10: 'x'"
     ]
    }
   ],
   "source": [
    "x = int(input(\"What´s x? \"))\n",
    "print(f(\"x is {x}\"))"
   ]
  },
  {
   "cell_type": "markdown",
   "metadata": {
    "cell_id": "9895a611cb7b4b5aaa711c2c07d0fc97",
    "deepnote_cell_type": "text-cell-p",
    "formattedRanges": [
     {
      "fromCodePoint": 0,
      "marks": {
       "bold": true
      },
      "toCodePoint": 11,
      "type": "marks"
     }
    ],
    "id": "hP3Csn4sjtam"
   },
   "source": [
    "VALUE ERROR: E.g. here when I insert a string into int() function ... not possible"
   ]
  },
  {
   "cell_type": "markdown",
   "metadata": {
    "cell_id": "4ebcd2d526e64257a17519721e22ed11",
    "deepnote_cell_type": "text-cell-p",
    "formattedRanges": [
     {
      "fromCodePoint": 19,
      "marks": {
       "bold": true
      },
      "toCodePoint": 22,
      "type": "marks"
     },
     {
      "fromCodePoint": 27,
      "marks": {
       "bold": true
      },
      "toCodePoint": 33,
      "type": "marks"
     }
    ],
    "id": "980fNqb4jtam"
   },
   "source": [
    "I can use keywords TRY and EXCEPT to anticipate errors and to give some error messages:"
   ]
  },
  {
   "cell_type": "code",
   "execution_count": null,
   "metadata": {
    "cell_id": "8616b35319c3427f9378fda22371919a",
    "deepnote_cell_type": "code",
    "id": "F4ZFMt3kjtam"
   },
   "outputs": [],
   "source": [
    "try:\n",
    "    x = int(input(\"What's x? \"))\n",
    "    print(f\"x is {x}\")\n",
    "except ValueError: # I need to specify the exception name (case sensitive)\n",
    "    print(\"x is not an integer\")"
   ]
  },
  {
   "cell_type": "markdown",
   "metadata": {
    "cell_id": "a60459f51ed546bdbd203c7704b39de9",
    "deepnote_cell_type": "text-cell-p",
    "formattedRanges": [],
    "id": "iIxc2O9Bjtam"
   },
   "source": [
    "The code above will return “x is not an integer” if the code runs into the ValueError exception"
   ]
  },
  {
   "cell_type": "markdown",
   "metadata": {
    "cell_id": "14b6ab0c79f44e45a239b70aa76e2354",
    "deepnote_cell_type": "text-cell-p",
    "formattedRanges": [],
    "id": "tHcYPqrPjtan"
   },
   "source": [
    "In the code above it is not necessary (and mby does not make sense) to include the print() in the try <> part"
   ]
  },
  {
   "cell_type": "code",
   "execution_count": null,
   "metadata": {
    "cell_id": "2b973a37fb9a42cda0445d490933d35b",
    "deepnote_cell_type": "code",
    "deepnote_to_be_reexecuted": false,
    "execution_millis": 1907,
    "execution_start": 1722686174696,
    "id": "alkr0S3Ijtan",
    "outputId": "fb12906b-aa35-4f18-e241-8609b5a31699",
    "source_hash": null
   },
   "outputs": [
    {
     "name": "stdout",
     "output_type": "stream",
     "text": [
      "x is not an integer\n"
     ]
    },
    {
     "ename": "NameError",
     "evalue": "name 'x' is not defined",
     "output_type": "error",
     "traceback": [
      "\u001b[0;31m---------------------------------------------------------------------------\u001b[0m",
      "\u001b[0;31mNameError\u001b[0m                                 Traceback (most recent call last)",
      "Cell \u001b[0;32mIn [5], line 6\u001b[0m\n\u001b[1;32m      3\u001b[0m \u001b[38;5;28;01mexcept\u001b[39;00m \u001b[38;5;167;01mValueError\u001b[39;00m: \u001b[38;5;66;03m# I need to specify the exception name (case sensitive)\u001b[39;00m\n\u001b[1;32m      4\u001b[0m     \u001b[38;5;28mprint\u001b[39m(\u001b[38;5;124m\"\u001b[39m\u001b[38;5;124mx is not an integer\u001b[39m\u001b[38;5;124m\"\u001b[39m)\n\u001b[0;32m----> 6\u001b[0m \u001b[38;5;28mprint\u001b[39m(\u001b[38;5;124mf\u001b[39m\u001b[38;5;124m\"\u001b[39m\u001b[38;5;124mx is \u001b[39m\u001b[38;5;132;01m{\u001b[39;00mx\u001b[38;5;132;01m}\u001b[39;00m\u001b[38;5;124m\"\u001b[39m)\n",
      "\u001b[0;31mNameError\u001b[0m: name 'x' is not defined"
     ]
    }
   ],
   "source": [
    "try:\n",
    "    x = int(input(\"What's x? \"))\n",
    "except ValueError:\n",
    "    print(\"x is not an integer\")\n",
    "\n",
    "print(f\"x is {x}\")"
   ]
  },
  {
   "cell_type": "markdown",
   "metadata": {
    "cell_id": "3317e2c767ea44eea30fc0684818bd11",
    "deepnote_cell_type": "text-cell-p",
    "formattedRanges": [
     {
      "fromCodePoint": 27,
      "marks": {
       "bold": true
      },
      "toCodePoint": 36,
      "type": "marks"
     }
    ],
    "id": "EZL_2RBSjtan"
   },
   "source": [
    "In the code above, I get a NameError"
   ]
  },
  {
   "cell_type": "markdown",
   "metadata": {
    "cell_id": "60acc1c65f1a4e97b6bb41592b1688d5",
    "deepnote_cell_type": "text-cell-p",
    "formattedRanges": [],
    "id": "z5qRE9iCjtan"
   },
   "source": [
    "More specifically, I learn that the variable x does not exist on line 6"
   ]
  },
  {
   "cell_type": "markdown",
   "metadata": {
    "cell_id": "b4e7c3ee44544936a65c27b2b7dffe7e",
    "deepnote_cell_type": "text-cell-p",
    "formattedRanges": [],
    "id": "nLv-0su6jtan"
   },
   "source": [
    "This is because the int() function cannot convert str into int, hence no value is assigned"
   ]
  },
  {
   "cell_type": "markdown",
   "metadata": {
    "cell_id": "234203f404444324bd4de50dccaa9295",
    "deepnote_cell_type": "text-cell-p",
    "formattedRanges": [],
    "id": "4x_Tr9MNjtan"
   },
   "source": [
    "SUMMARY:"
   ]
  },
  {
   "cell_type": "markdown",
   "metadata": {
    "cell_id": "5f13ed13c49f45ecab9e03167ba7d1bd",
    "deepnote_cell_type": "text-cell-bullet",
    "formattedRanges": [],
    "id": "Vumbk-o2jtan"
   },
   "source": [
    "- Python is telling me that x is not defined (NameError)"
   ]
  },
  {
   "cell_type": "markdown",
   "metadata": {
    "cell_id": "88c3be946a2446a694f73ff25edb1002",
    "deepnote_cell_type": "text-cell-bullet",
    "formattedRanges": [],
    "id": "LOqAM7WFjtan"
   },
   "source": [
    "- I need to find why is the variable not being defined"
   ]
  },
  {
   "cell_type": "markdown",
   "metadata": {
    "cell_id": "25454a72dafa43f3bad7ab9421ac2e95",
    "deepnote_cell_type": "text-cell-bullet",
    "formattedRanges": [],
    "id": "RLBTGPZCjtan"
   },
   "source": [
    "- I found that it’s because the int() function cannot accept the string input"
   ]
  },
  {
   "cell_type": "markdown",
   "metadata": {
    "cell_id": "4ac0ae3e7ae24d60804b0cb81807416c",
    "deepnote_cell_type": "text-cell-bullet",
    "formattedRanges": [],
    "id": "rhWB99nBjtan"
   },
   "source": [
    "- So when I insert “cat” into x, I get a ValueError that is being handled by the except"
   ]
  },
  {
   "cell_type": "markdown",
   "metadata": {
    "cell_id": "2d50b721e4e14d969e53e12dd0819e77",
    "deepnote_cell_type": "text-cell-bullet",
    "formattedRanges": [],
    "id": "Ge9fIyoRjtan"
   },
   "source": [
    "- However I am still not assigning a value to x, hence I cannot print it"
   ]
  },
  {
   "cell_type": "markdown",
   "metadata": {
    "cell_id": "854a198452414898819d54b759dcb304",
    "deepnote_cell_type": "text-cell-bullet",
    "formattedRanges": [
     {
      "fromCodePoint": 27,
      "marks": {
       "bold": true
      },
      "toCodePoint": 31,
      "type": "marks"
     }
    ],
    "id": "VXiCUUYYjtan"
   },
   "source": [
    "- Thus, I need to include an ELSE statement here"
   ]
  },
  {
   "cell_type": "markdown",
   "metadata": {
    "cell_id": "ee2db4001a334d32aa00d0f9291796cc",
    "deepnote_cell_type": "text-cell-p",
    "formattedRanges": [
     {
      "fromCodePoint": 0,
      "marks": {
       "bold": true
      },
      "toCodePoint": 53,
      "type": "marks"
     }
    ],
    "id": "iMQYIxOojtan"
   },
   "source": [
    "The ELSE statement gets executed if i try and succeed"
   ]
  },
  {
   "cell_type": "code",
   "execution_count": null,
   "metadata": {
    "cell_id": "ce0edf8bba584584ae69b51067896de3",
    "deepnote_cell_type": "code",
    "deepnote_to_be_reexecuted": false,
    "execution_millis": 11347,
    "execution_start": 1722687136372,
    "id": "_Bhq2S7Vjtan",
    "outputId": "e6d7e6d3-d30f-4516-a85b-6b1e3a0c5d8f",
    "source_hash": null
   },
   "outputs": [
    {
     "name": "stdout",
     "output_type": "stream",
     "text": [
      "x is not an integer\n"
     ]
    }
   ],
   "source": [
    "try:\n",
    "    x = int(input(\"What's x? \"))\n",
    "except ValueError:\n",
    "    print(\"x is not an integer\")\n",
    "else:\n",
    "    print(f\"x is {x}\")"
   ]
  },
  {
   "cell_type": "markdown",
   "metadata": {
    "cell_id": "b4182c6f3cb5447ab69d509c0056bdc7",
    "deepnote_cell_type": "text-cell-p",
    "formattedRanges": [],
    "id": "s9LW8tF9jtao"
   },
   "source": [
    "Let’s improve the code above"
   ]
  },
  {
   "cell_type": "markdown",
   "metadata": {
    "cell_id": "af73b06cfb504a2994e606fbab167ec0",
    "deepnote_cell_type": "text-cell-p",
    "formattedRanges": [],
    "id": "igFAmTFHjtao"
   },
   "source": [
    "It’s not nice of me to refuse the user input and to terminate the program afterwards"
   ]
  },
  {
   "cell_type": "markdown",
   "metadata": {
    "cell_id": "1e0539bb07a44bd6bae743a9641f655b",
    "deepnote_cell_type": "text-cell-p",
    "formattedRanges": [],
    "id": "8seTT8Ssjtao"
   },
   "source": [
    "It’s make more sense to ask again or something"
   ]
  },
  {
   "cell_type": "code",
   "execution_count": null,
   "metadata": {
    "cell_id": "c0e654b0032547a2963e83d879ea0fe2",
    "deepnote_cell_type": "code",
    "deepnote_to_be_reexecuted": false,
    "execution_millis": 9289,
    "execution_start": 1722687650003,
    "id": "rp7yQl3Ajtao",
    "outputId": "3220a109-19c3-48e8-c897-54c147a88545",
    "source_hash": null
   },
   "outputs": [
    {
     "name": "stdout",
     "output_type": "stream",
     "text": [
      "x is not an integer\n",
      "x is not an integer\n",
      "x is not an integer\n",
      "x is 1\n"
     ]
    }
   ],
   "source": [
    "while True:\n",
    "    try:\n",
    "        x = int(input(\"What's x? \"))\n",
    "    except ValueError:\n",
    "        print(\"x is not an integer\")\n",
    "    else:\n",
    "        break\n",
    "print(f\"x is {x}\")"
   ]
  },
  {
   "cell_type": "markdown",
   "metadata": {
    "cell_id": "c418e9e67cc34afd848ffb438394567d",
    "deepnote_cell_type": "text-cell-p",
    "formattedRanges": [],
    "id": "pzBXaXksjtao"
   },
   "source": [
    "I could also do it like this:"
   ]
  },
  {
   "cell_type": "code",
   "execution_count": null,
   "metadata": {
    "cell_id": "db71589b97784b3ab2d2d37401fbc8df",
    "deepnote_cell_type": "code",
    "deepnote_to_be_reexecuted": false,
    "execution_millis": 12308,
    "execution_start": 1722688740244,
    "id": "YS-fx9_Jjtao",
    "outputId": "bdc2e06f-e628-4837-df13-dfbebf9a3a5f",
    "source_hash": null
   },
   "outputs": [
    {
     "name": "stdout",
     "output_type": "stream",
     "text": [
      "x is not an integer\n",
      "x is not an integer\n",
      "x is not an integer\n",
      "x is 1\n"
     ]
    }
   ],
   "source": [
    "while True:\n",
    "    try:\n",
    "        x = int(input(\"What's x? \"))\n",
    "        break #if the int conversion does not fail, I break\n",
    "    except ValueError:\n",
    "        print(\"x is not an integer\")\n",
    "\n",
    "print(f\"x is {x}\")"
   ]
  },
  {
   "cell_type": "markdown",
   "metadata": {
    "cell_id": "a772ce76f76c47df8c0ab262009feede",
    "deepnote_cell_type": "text-cell-p",
    "formattedRanges": [],
    "id": "1zNCVWnpjtao"
   },
   "source": [
    "Now let’s try to define a function that is going to collect an integer from the user"
   ]
  },
  {
   "cell_type": "code",
   "execution_count": null,
   "metadata": {
    "cell_id": "178fa3d87381457ba05fb03a112e18e7",
    "deepnote_cell_type": "code",
    "deepnote_to_be_reexecuted": false,
    "execution_millis": 6006,
    "execution_start": 1722689289211,
    "id": "AtRGb9Nkjtao",
    "outputId": "fe1a9cdb-41e3-42a3-9dfa-cf5182ffe4d2",
    "source_hash": null
   },
   "outputs": [
    {
     "name": "stdout",
     "output_type": "stream",
     "text": [
      "x is not an integer\n",
      "x is not an integer\n",
      "x is 1\n"
     ]
    }
   ],
   "source": [
    "def main():\n",
    "    x = get_int()\n",
    "    print(f\"x is {x}\")\n",
    "\n",
    "def get_int():\n",
    "    while True:\n",
    "        try:\n",
    "            x = int(input(\"What's x? \"))\n",
    "        except ValueError:\n",
    "            print(\"x is not an integer\")\n",
    "        else:\n",
    "            break #or I could paste return here (no need for break)\n",
    "    return x\n",
    "\n",
    "main()"
   ]
  },
  {
   "cell_type": "markdown",
   "metadata": {
    "cell_id": "6ae157849ae240db98b2c46adf3e51fe",
    "deepnote_cell_type": "text-cell-p",
    "formattedRanges": [],
    "id": "3pUDB9Jnjtap"
   },
   "source": [
    "Big simplification"
   ]
  },
  {
   "cell_type": "code",
   "execution_count": null,
   "metadata": {
    "cell_id": "1067cfaa460a4b5d92e05bbfd2f7fa24",
    "deepnote_cell_type": "code",
    "id": "DJVz8kdPjtap"
   },
   "outputs": [],
   "source": [
    "def main():\n",
    "    x = get_int()\n",
    "    print(f\"x is {x}\")\n",
    "\n",
    "def get_int():\n",
    "    while True:\n",
    "        try:\n",
    "            return int(input(\"What's x? \"))\n",
    "        except ValueError:\n",
    "            print(\"x is not an integer\")\n",
    "\n",
    "main()"
   ]
  },
  {
   "cell_type": "markdown",
   "metadata": {
    "cell_id": "1ff98fd9f75d49e7bc7d76df045b4f07",
    "deepnote_cell_type": "text-cell-p",
    "formattedRanges": [
     {
      "fromCodePoint": 181,
      "marks": {
       "bold": true
      },
      "toCodePoint": 185,
      "type": "marks"
     }
    ],
    "id": "geKya1DVjtap"
   },
   "source": [
    "In python, when I want to catch an exception but I don’t want to do anything about it (don’t want to print anything, quit the program etc.), I simply wanna ignore it: I can use the PASS keyword"
   ]
  },
  {
   "cell_type": "code",
   "execution_count": 1,
   "metadata": {
    "cell_id": "a31074d332404e24a51ba671f9fca6e8",
    "colab": {
     "base_uri": "https://localhost:8080/"
    },
    "deepnote_cell_type": "code",
    "executionInfo": {
     "elapsed": 9069,
     "status": "ok",
     "timestamp": 1722693964614,
     "user": {
      "displayName": "Ondřej Vojtěch Smolík",
      "userId": "14292490656819673989"
     },
     "user_tz": -120
    },
    "id": "JfAxmuH7jtap",
    "outputId": "bccb476a-cb43-4d3e-ee15-b8b02683dab4"
   },
   "outputs": [
    {
     "name": "stdout",
     "output_type": "stream",
     "text": [
      "What's x? P\n",
      "What's x? 1,3\n",
      "What's x? 1\n",
      "x is 1\n"
     ]
    }
   ],
   "source": [
    "def main():\n",
    "    x = get_int()\n",
    "    print(f\"x is {x}\")\n",
    "\n",
    "def get_int():\n",
    "    while True:\n",
    "        try:\n",
    "            return int(input(\"What's x? \"))\n",
    "        except ValueError:\n",
    "            pass\n",
    "\n",
    "main()"
   ]
  },
  {
   "cell_type": "markdown",
   "metadata": {
    "cell_id": "7e369ed8635243cb9746439746873fc8",
    "deepnote_cell_type": "text-cell-p",
    "formattedRanges": [],
    "id": "ddc3OjGEjtap"
   },
   "source": [
    "In the code above, I am still catching the error, I’m just not doing anything about it"
   ]
  },
  {
   "cell_type": "markdown",
   "metadata": {
    "cell_id": "5ba0215757944e488b1dfe1ce8e37cec",
    "deepnote_cell_type": "text-cell-p",
    "formattedRanges": [],
    "id": "28dSAHX1jtap"
   },
   "source": [
    "And now next improvement: I don’t wanna specify the prompt inside the functions"
   ]
  },
  {
   "cell_type": "markdown",
   "metadata": {
    "cell_id": "0411f871a26742e08bc1f461068ae10e",
    "deepnote_cell_type": "text-cell-p",
    "formattedRanges": [],
    "id": "hqVgR3oXjtap"
   },
   "source": [
    "It’d be better if I could specify it inside the main() function block"
   ]
  },
  {
   "cell_type": "code",
   "execution_count": null,
   "metadata": {
    "cell_id": "3530d9b9029741fa8a30cf1b26029fe4",
    "deepnote_cell_type": "code",
    "deepnote_to_be_reexecuted": false,
    "execution_millis": 11184,
    "execution_start": 1722690713044,
    "id": "P4k-3nSVjtap",
    "outputId": "c4c53f16-4c9a-4ab0-9231-795e71c148f6",
    "source_hash": null
   },
   "outputs": [
    {
     "name": "stdout",
     "output_type": "stream",
     "text": [
      "x is 1\n"
     ]
    }
   ],
   "source": [
    "def main():\n",
    "    x = get_int(\"What's x? \") # I added the prompt here\n",
    "    print(f\"x is {x}\")\n",
    "\n",
    "def get_int(prompt): # I added the argument here\n",
    "    while True:\n",
    "        try:\n",
    "            return int(input(prompt)) # and here\n",
    "        except ValueError:\n",
    "            pass\n",
    "\n",
    "main()"
   ]
  }
 ],
 "metadata": {
  "colab": {
   "provenance": [],
   "toc_visible": true
  },
  "deepnote_execution_queue": [],
  "deepnote_notebook_id": "5b6cac85fed24964a529af3679608f8f",
  "kernelspec": {
   "display_name": "Python 3 (ipykernel)",
   "language": "python",
   "name": "python3"
  },
  "language_info": {
   "codemirror_mode": {
    "name": "ipython",
    "version": 3
   },
   "file_extension": ".py",
   "mimetype": "text/x-python",
   "name": "python",
   "nbconvert_exporter": "python",
   "pygments_lexer": "ipython3",
   "version": "3.11.0"
  }
 },
 "nbformat": 4,
 "nbformat_minor": 0
}
