{
 "cells": [
  {
   "cell_type": "markdown",
   "metadata": {
    "cell_id": "b17fdd79df1c46b6984c330a74df0f45",
    "deepnote_cell_type": "text-cell-h1",
    "formattedRanges": [],
    "id": "565kP93whhXE"
   },
   "source": [
    "# Lecture 0 - Functions, variables"
   ]
  },
  {
   "cell_type": "markdown",
   "metadata": {
    "cell_id": "0a15cfecd4784557875e5d57f195d74d",
    "deepnote_cell_type": "text-cell-h2",
    "formattedRanges": [],
    "id": "K_j3hpM7hhXG"
   },
   "source": [
    "## Strings"
   ]
  },
  {
   "cell_type": "markdown",
   "metadata": {
    "cell_id": "2912b16469b547fda32d39a04f94d23c",
    "deepnote_cell_type": "text-cell-p",
    "formattedRanges": [],
    "id": "A_j6Yx8ehhXH"
   },
   "source": [
    "There are several ways of printing the output in a variable."
   ]
  },
  {
   "cell_type": "markdown",
   "metadata": {
    "cell_id": "084c0030561146ee840dd3ce1df740ed",
    "deepnote_cell_type": "text-cell-p",
    "formattedRanges": [],
    "id": "wxQ7lJVbhhXH"
   },
   "source": [
    "1) Using one line ... also notice the end parameter (by default there´s \\n -> creating a new line, that I don´t need)"
   ]
  },
  {
   "cell_type": "code",
   "execution_count": 14,
   "metadata": {
    "cell_id": "652c1d30ad9543deb4c1790550ddf093",
    "deepnote_cell_type": "code",
    "deepnote_to_be_reexecuted": false,
    "execution_millis": 2921,
    "execution_start": 1721304582785,
    "id": "yWrntyRhhhXI",
    "outputId": "7c5f5f21-4115-4f25-9f9c-82396388b281",
    "source_hash": null
   },
   "outputs": [
    {
     "name": "stdout",
     "output_type": "stream",
     "text": [
      "Hello, ondrej\n"
     ]
    }
   ],
   "source": [
    "# Asking user for input\n",
    "name = input(\"What is your name?\")\n",
    "\n",
    "# Printing the input\n",
    "print(\"Hello, \", end=\"\")\n",
    "print(name)\n"
   ]
  },
  {
   "cell_type": "markdown",
   "metadata": {
    "cell_id": "640615131b764437bcde7707f1e74e4c",
    "deepnote_cell_type": "text-cell-p",
    "formattedRanges": [],
    "id": "Edc4FaHlhhXJ"
   },
   "source": [
    "2) One line code ... notice the sep parameter (by default there´s \"\" -> I want to have a space between there, so I need to specify it)"
   ]
  },
  {
   "cell_type": "code",
   "execution_count": 15,
   "metadata": {
    "cell_id": "6081b4e06cfd4925aa1632354803c352",
    "deepnote_cell_type": "code",
    "deepnote_to_be_reexecuted": false,
    "execution_millis": 2096,
    "execution_start": 1721304585712,
    "id": "50D9PEQmhhXJ",
    "outputId": "c92eff00-1ecd-4f9c-e86b-c85241a0ec8d",
    "source_hash": null
   },
   "outputs": [
    {
     "name": "stdout",
     "output_type": "stream",
     "text": [
      "Hello, ondrej\n"
     ]
    }
   ],
   "source": [
    "# Asking user\n",
    "name = input(\"What is your name?\")\n",
    "\n",
    "# Printing the input\n",
    "print(\"Hello,\", name, sep=\" \")"
   ]
  },
  {
   "cell_type": "markdown",
   "metadata": {
    "cell_id": "99d6d3d95b09424dbbede94d9c527951",
    "deepnote_cell_type": "text-cell-p",
    "formattedRanges": [],
    "id": "bNMuzSm_hhXK"
   },
   "source": [
    "3) Formatted string"
   ]
  },
  {
   "cell_type": "code",
   "execution_count": 16,
   "metadata": {
    "cell_id": "73f4711acd1b43e284b897ec321a671f",
    "deepnote_cell_type": "code",
    "deepnote_to_be_reexecuted": false,
    "execution_millis": 1992,
    "execution_start": 1721304587814,
    "id": "-cDZSKpqhhXK",
    "outputId": "b35aa5b5-4b97-4d47-fd8d-d50be2dd8aa8",
    "source_hash": null
   },
   "outputs": [
    {
     "name": "stdout",
     "output_type": "stream",
     "text": [
      "Hello, ondrej\n"
     ]
    }
   ],
   "source": [
    "#Asking user for input\n",
    "name = input(\"What is your name?\")\n",
    "\n",
    "# Printing the input\n",
    "print(f\"Hello, {name}\")\n"
   ]
  },
  {
   "cell_type": "markdown",
   "metadata": {
    "cell_id": "d93bb056337f466189195784f9ab409a",
    "deepnote_cell_type": "text-cell-h2",
    "formattedRanges": [],
    "id": "rG7-jMmAhhXL"
   },
   "source": [
    "## Our first string methods"
   ]
  },
  {
   "cell_type": "markdown",
   "metadata": {
    "cell_id": "744db697c4a54d4e82484100fb67179e",
    "deepnote_cell_type": "text-cell-p",
    "formattedRanges": [],
    "id": "-0yaekrthhXL"
   },
   "source": [
    "Some of the string methods ..."
   ]
  },
  {
   "cell_type": "code",
   "execution_count": 4,
   "metadata": {
    "cell_id": "b62be4c3d2f44699b0ccc4de255d6f3f",
    "colab": {
     "base_uri": "https://localhost:8080/"
    },
    "deepnote_cell_type": "code",
    "deepnote_to_be_reexecuted": false,
    "executionInfo": {
     "elapsed": 7149,
     "status": "ok",
     "timestamp": 1722693354287,
     "user": {
      "displayName": "Ondřej Vojtěch Smolík",
      "userId": "14292490656819673989"
     },
     "user_tz": -120
    },
    "execution_millis": 4784,
    "execution_start": 1721307381575,
    "id": "L7yly2lRhhXL",
    "outputId": "854198eb-3a09-48ce-e6e0-ae05cfad6388",
    "source_hash": null
   },
   "outputs": [
    {
     "name": "stdout",
     "output_type": "stream",
     "text": [
      "Hello, Ondrej Smolik\n"
     ]
    }
   ],
   "source": [
    "# collecting the input\n",
    "name = input(\"What is your name? \")\n",
    "\n",
    "# METHOHOD STRIP: if the user´s input contain spaces, this metod will remove them\n",
    "name = name.strip()\n",
    "\n",
    "# METHOD CAPITALIZE: will capitalize the first letter of the input\n",
    "#name = name.capitalize()\n",
    "\n",
    "# METHOD TITLE: will capitalize the first letter of each word\n",
    "name = name.title()\n",
    "\n",
    "# Printing the input\n",
    "print(\"Hello,\",name,sep=\" \")"
   ]
  },
  {
   "cell_type": "markdown",
   "metadata": {
    "cell_id": "2b16e5200178437b958f05c1350f7fba",
    "deepnote_cell_type": "text-cell-p",
    "formattedRanges": [],
    "id": "JglDpwh0hhXL"
   },
   "source": [
    "simplifying the code .."
   ]
  },
  {
   "cell_type": "code",
   "execution_count": 5,
   "metadata": {
    "cell_id": "98f735af9f0c49009018601480b8ccf8",
    "deepnote_cell_type": "code",
    "deepnote_to_be_reexecuted": false,
    "execution_millis": 5597,
    "execution_start": 1721307549237,
    "id": "68AseJHRhhXM",
    "outputId": "7f47561c-3d5d-4076-f3ed-8d1aaff7eaa7",
    "source_hash": null
   },
   "outputs": [
    {
     "name": "stdout",
     "output_type": "stream",
     "text": [
      "Hello, Ondrej Smolik\n",
      "Hello, Ondrej Smolik\n"
     ]
    }
   ],
   "source": [
    "# We can make the code easier like this:\n",
    "name = input(\"What is your name? \")\n",
    "name = name.strip().title()\n",
    "print(\"Hello,\", name, sep=\" \")\n",
    "\n",
    "# or even this:\n",
    "name = input(\"What is your name? \").strip().title()\n",
    "print(\"Hello,\", name, sep=\" \")"
   ]
  },
  {
   "cell_type": "markdown",
   "metadata": {
    "cell_id": "223155e5c6b8488c91d9ebbbef531dc6",
    "deepnote_cell_type": "text-cell-p",
    "formattedRanges": [],
    "id": "lR00fY6IhhXM"
   },
   "source": [
    "Split method, assigning values into multiple variables"
   ]
  },
  {
   "cell_type": "code",
   "execution_count": 8,
   "metadata": {
    "cell_id": "d30fc66c316548cab16e22ff1a1ce7b7",
    "deepnote_cell_type": "code",
    "deepnote_to_be_reexecuted": false,
    "execution_millis": 4690,
    "execution_start": 1721308155133,
    "id": "RGaa_YAzhhXM",
    "outputId": "591df574-6194-428c-ffad-11eb7980e75b",
    "source_hash": null
   },
   "outputs": [
    {
     "name": "stdout",
     "output_type": "stream",
     "text": [
      "Hello, Ondrej Smolik.\n"
     ]
    }
   ],
   "source": [
    "# Taking the user´s input\n",
    "name = input(\"What is your name? \").strip().title()\n",
    "\n",
    "# splitting the first name and the last name\n",
    "first, last = name.split(\" \")\n",
    "\n",
    "# printing the output\n",
    "print(f\"Hello, {first} {last}.\")"
   ]
  },
  {
   "cell_type": "markdown",
   "metadata": {},
   "source": [
    "how do I know a type of a variable?"
   ]
  },
  {
   "cell_type": "code",
   "execution_count": 10,
   "metadata": {},
   "outputs": [
    {
     "name": "stdout",
     "output_type": "stream",
     "text": [
      "Ondrej Smolik\n",
      "<class 'str'>\n"
     ]
    }
   ],
   "source": [
    "print(name)\n",
    "print(type(name))"
   ]
  },
  {
   "cell_type": "markdown",
   "metadata": {},
   "source": [
    "Where to find the methods?\n",
    "https://docs.python.org/3/library/"
   ]
  },
  {
   "cell_type": "markdown",
   "metadata": {
    "cell_id": "455b0988c4aa4754899c400424bbcd07",
    "deepnote_cell_type": "text-cell-h2",
    "formattedRanges": [],
    "id": "MbQZzkQwhhXN"
   },
   "source": [
    "## Numbers and their methods / functions"
   ]
  },
  {
   "cell_type": "markdown",
   "metadata": {
    "cell_id": "7169de50166a4977bede0745f364509e",
    "deepnote_cell_type": "text-cell-h3",
    "formattedRanges": [],
    "id": "i6ngUC4xhhXN"
   },
   "source": [
    "### Integers"
   ]
  },
  {
   "cell_type": "code",
   "execution_count": 22,
   "metadata": {
    "cell_id": "63a69b52414e452c9ca7736cbc974bee",
    "colab": {
     "base_uri": "https://localhost:8080/",
     "height": 367
    },
    "deepnote_cell_type": "code",
    "deepnote_to_be_reexecuted": false,
    "executionInfo": {
     "elapsed": 1651,
     "status": "error",
     "timestamp": 1722693721634,
     "user": {
      "displayName": "Ondřej Vojtěch Smolík",
      "userId": "14292490656819673989"
     },
     "user_tz": -120
    },
    "execution_millis": 2992,
    "execution_start": 1721310010337,
    "id": "wyhpofljhhXN",
    "outputId": "04e9043c-c175-45cf-85d6-440e71a52cfe",
    "source_hash": null
   },
   "outputs": [
    {
     "name": "stdout",
     "output_type": "stream",
     "text": [
      "1, 2\n",
      "3\n",
      "<class 'int'> <class 'int'>\n"
     ]
    }
   ],
   "source": [
    "# Collecting the user input\n",
    "x = int(input(\"What's the value of x? \")) #if I didn´t use int(), it would be a string\n",
    "y = int(input(\"What's the value of y?\"))\n",
    "\n",
    "print(x, y, sep=\", \")\n",
    "print(x+y)\n",
    "print(type(x), type(y))"
   ]
  },
  {
   "cell_type": "markdown",
   "metadata": {
    "cell_id": "37807357c8db4a5f9201416974104412",
    "deepnote_cell_type": "text-cell-h3",
    "formattedRanges": [],
    "id": "6xBGB3ZvhhXO"
   },
   "source": [
    "### Floats"
   ]
  },
  {
   "cell_type": "markdown",
   "metadata": {
    "cell_id": "115dc74618d44e9dad9283bfa27be5f6",
    "deepnote_cell_type": "text-cell-p",
    "formattedRanges": [],
    "id": "gt9sqRC2hhXO"
   },
   "source": [
    "Adding up and rounding floats"
   ]
  },
  {
   "cell_type": "code",
   "execution_count": 26,
   "metadata": {
    "cell_id": "6f1763100dfc4e7da6f84c83ee033e88",
    "deepnote_cell_type": "code",
    "deepnote_to_be_reexecuted": false,
    "executionInfo": {
     "elapsed": 2,
     "status": "aborted",
     "timestamp": 1722693721634,
     "user": {
      "displayName": "Ondřej Vojtěch Smolík",
      "userId": "14292490656819673989"
     },
     "user_tz": -120
    },
    "execution_millis": 2666,
    "execution_start": 1721309457273,
    "id": "YRjPr1O1hhXO",
    "source_hash": null
   },
   "outputs": [
    {
     "name": "stdout",
     "output_type": "stream",
     "text": [
      "1.1, 2.2\n",
      "3\n",
      "<class 'float'> <class 'float'> <class 'int'>\n"
     ]
    }
   ],
   "source": [
    "# Collecting the user input\n",
    "x = float(input(\"What's the value of x? \"))\n",
    "y = float(input(\"What's the value of y?\"))\n",
    "\n",
    "z = round(x+y)\n",
    "\n",
    "print(x, y, sep=\", \")\n",
    "print(z)\n",
    "print(type(x), type(y), type(z))"
   ]
  },
  {
   "cell_type": "markdown",
   "metadata": {},
   "source": [
    "what if I don't remember what a function does - there's a docstring!"
   ]
  },
  {
   "cell_type": "code",
   "execution_count": 27,
   "metadata": {},
   "outputs": [
    {
     "name": "stdout",
     "output_type": "stream",
     "text": [
      "\u001b[1;31mDocstring:\u001b[0m\n",
      "round(number[, ndigits]) -> number\n",
      "\n",
      "Round a number to a given precision in decimal digits (default 0 digits).\n",
      "This returns an int when called with one argument, otherwise the\n",
      "same type as the number. ndigits may be negative.\n",
      "\u001b[1;31mType:\u001b[0m      builtin_function_or_method\n"
     ]
    }
   ],
   "source": [
    "?round"
   ]
  },
  {
   "cell_type": "markdown",
   "metadata": {
    "cell_id": "126dac5f16f740ce80af037266be8624",
    "deepnote_cell_type": "text-cell-p",
    "formattedRanges": [],
    "id": "LVYQdueMhhXP"
   },
   "source": [
    "If I want to format the output, e.g. to show \",\" as a thousands separator"
   ]
  },
  {
   "cell_type": "code",
   "execution_count": 30,
   "metadata": {
    "cell_id": "3200a4e7b63448e5b956207193a52e8e",
    "deepnote_cell_type": "code",
    "deepnote_to_be_reexecuted": false,
    "executionInfo": {
     "elapsed": 3,
     "status": "aborted",
     "timestamp": 1722693721635,
     "user": {
      "displayName": "Ondřej Vojtěch Smolík",
      "userId": "14292490656819673989"
     },
     "user_tz": -120
    },
    "execution_millis": 3044,
    "execution_start": 1721309531751,
    "id": "_6ck_VP2hhXP",
    "source_hash": null
   },
   "outputs": [
    {
     "name": "stdout",
     "output_type": "stream",
     "text": [
      "1050.1, 10.1\n",
      "1,060\n",
      "<class 'float'> <class 'float'> <class 'int'>\n"
     ]
    }
   ],
   "source": [
    "# Collecting the user input\n",
    "x = float(input(\"What's the value of x? \"))\n",
    "y = float(input(\"What's the value of y?\"))\n",
    "\n",
    "z = round(x+y)\n",
    "\n",
    "print(x, y, sep=\", \")\n",
    "print(f\"{z:,}\")\n",
    "print(type(x), type(y), type(z))"
   ]
  },
  {
   "cell_type": "markdown",
   "metadata": {
    "cell_id": "d3d5778999714cd395395b7fff47fa6c",
    "deepnote_cell_type": "text-cell-h2",
    "formattedRanges": [],
    "id": "6UHJKldxhhXP"
   },
   "source": [
    "## Defining a function"
   ]
  },
  {
   "cell_type": "markdown",
   "metadata": {
    "cell_id": "50203532fe0b40e68c80d5d0580119a1",
    "deepnote_cell_type": "text-cell-p",
    "formattedRanges": [],
    "id": "GwFbWVmUhhXQ"
   },
   "source": [
    "So far we´re often greeting the user by saying \"Hello, <name>\", e.g. we´re calling the print() function with some content inside"
   ]
  },
  {
   "cell_type": "markdown",
   "metadata": {
    "cell_id": "112e4df5059142119e31a71c0a8c7bb2",
    "deepnote_cell_type": "text-cell-p",
    "formattedRanges": [],
    "id": "N5ardir8hhXQ"
   },
   "source": [
    "It´d be nice to create our own functions that´d do this for us"
   ]
  },
  {
   "cell_type": "code",
   "execution_count": null,
   "metadata": {
    "cell_id": "5ae5ec9c7a1544c8967cd871739c3f3e",
    "deepnote_cell_type": "code",
    "deepnote_to_be_reexecuted": false,
    "execution_millis": 1816,
    "execution_start": 1721310115370,
    "id": "BeZJd7GihhXQ",
    "outputId": "4a1bae7f-1eb1-421b-868a-ed481815f706",
    "source_hash": null
   },
   "outputs": [
    {
     "name": "stdout",
     "output_type": "stream",
     "text": [
      "Hello, Ondrej\n"
     ]
    }
   ],
   "source": [
    "name = input(\"What is your name? \")\n",
    "\n",
    "def hello():\n",
    "    print(\"Hello, \", end=\"\")\n",
    "\n",
    "hello()\n",
    "print(name)"
   ]
  },
  {
   "cell_type": "markdown",
   "metadata": {
    "cell_id": "7c3cf34b5cb4460eaae9e8869d1b6907",
    "deepnote_cell_type": "text-cell-p",
    "formattedRanges": [],
    "id": "_piMZJx9hhXQ"
   },
   "source": [
    "I can make the function to take the user name as a parameter, also I can define default value"
   ]
  },
  {
   "cell_type": "code",
   "execution_count": 38,
   "metadata": {
    "cell_id": "98bafecd9f7842ed8e49c6d5a140c5a3",
    "deepnote_cell_type": "code",
    "deepnote_to_be_reexecuted": false,
    "execution_millis": 1943,
    "execution_start": 1721478793365,
    "id": "6p-_gXb4hhXQ",
    "outputId": "b837b0e6-e774-42b9-cce2-e4870e73e6ec",
    "source_hash": null
   },
   "outputs": [
    {
     "name": "stdout",
     "output_type": "stream",
     "text": [
      "hello, ondrej\n"
     ]
    }
   ],
   "source": [
    "def hello(to=\"world\"): #I can define a default value\n",
    "    print(\"hello,\", to)\n",
    "\n",
    "name = input(\"What is your name? \")\n",
    "hello(name)"
   ]
  },
  {
   "cell_type": "markdown",
   "metadata": {},
   "source": [
    "it is possible to write a docstring to your function"
   ]
  },
  {
   "cell_type": "code",
   "execution_count": 32,
   "metadata": {},
   "outputs": [
    {
     "name": "stdout",
     "output_type": "stream",
     "text": [
      "Hello, world\n",
      "Hello, Alice\n"
     ]
    },
    {
     "name": "stdout",
     "output_type": "stream",
     "text": [
      "\u001b[1;31mSignature:\u001b[0m \u001b[0mhello\u001b[0m\u001b[1;33m(\u001b[0m\u001b[0mto\u001b[0m\u001b[1;33m=\u001b[0m\u001b[1;34m'world'\u001b[0m\u001b[1;33m)\u001b[0m\u001b[1;33m\u001b[0m\u001b[0m\n",
      "\u001b[1;31mDocstring:\u001b[0m this function says hello\n",
      "\u001b[1;31mFile:\u001b[0m      c:\\users\\jf16783\\desktop\\git\\github_private\\python (not a repo)\\python_introduction_harvard\\<ipython-input-32-5185dee0d873>\n",
      "\u001b[1;31mType:\u001b[0m      function\n"
     ]
    }
   ],
   "source": [
    "def hello(to=\"world\"):\n",
    "    '''\n",
    "    this function says hello\n",
    "    '''\n",
    "    print(\"Hello,\", to)\n",
    "\n",
    "hello()\n",
    "hello(\"Alice\")\n",
    "\n",
    "?hello"
   ]
  },
  {
   "cell_type": "markdown",
   "metadata": {
    "cell_id": "78ae5b0af0dd40b9b63bebb56185bbcf",
    "deepnote_cell_type": "text-cell-p",
    "formattedRanges": [],
    "id": "VyLxpnkhhhXQ"
   },
   "source": [
    "In order to use the function hello(), I need to define it first .. it is not possible to define the function at the bottom of the file and write the code above it .. for this reason, this approach was recommended:"
   ]
  },
  {
   "cell_type": "code",
   "execution_count": 33,
   "metadata": {
    "cell_id": "3d9aa61e564a4c3098aca78541a465d4",
    "deepnote_cell_type": "code",
    "deepnote_to_be_reexecuted": false,
    "execution_millis": 3927,
    "execution_start": 1721479696895,
    "id": "Dy9pxJ8ahhXQ",
    "outputId": "addaaf59-9b5f-4ad7-d536-c818fd69f51a",
    "source_hash": null
   },
   "outputs": [
    {
     "name": "stdout",
     "output_type": "stream",
     "text": [
      "hello, ondrej\n"
     ]
    }
   ],
   "source": [
    "def main(): #first I define the main part of the code\n",
    "    name = input(\"What is your name? \")\n",
    "    hello(name)\n",
    "\n",
    "def hello(to=\"world\"): #then I define the function that I need in the main part of the code\n",
    "    print(\"hello,\", to)\n",
    "\n",
    "main() #at the end I call the main part of the code"
   ]
  },
  {
   "cell_type": "markdown",
   "metadata": {
    "cell_id": "314251f0a2c34165ba8bc5bae1982ec2",
    "deepnote_cell_type": "text-cell-p",
    "formattedRanges": [],
    "id": "J9VTHRwuhhXQ"
   },
   "source": [
    "If I did not use this approach, I would always need to go to the very top to define functions, e.g. I would jump from bottom to top and vice versa. If I follow this approach, I can simply define my functions even under my main code"
   ]
  },
  {
   "cell_type": "markdown",
   "metadata": {
    "cell_id": "98580da313dd4c19954f88d47ff8525a",
    "deepnote_cell_type": "text-cell-p",
    "formattedRanges": [
     {
      "fromCodePoint": 121,
      "marks": {
       "bold": true
      },
      "toCodePoint": 125,
      "type": "marks"
     },
     {
      "fromCodePoint": 203,
      "marks": {
       "bold": true
      },
      "toCodePoint": 229,
      "type": "marks"
     },
     {
      "fromCodePoint": 258,
      "marks": {
       "bold": true
      },
      "toCodePoint": 263,
      "type": "marks"
     }
    ],
    "id": "hF4YiGKXhhXQ"
   },
   "source": [
    "!!! In the code above, I’ve defined variable name (I assigned a value to it) .. now this variable exists only within the main function .. If I wanted to call it outside of the function, Id get an error: name “name” is not defined, generally this is called a SCOPE"
   ]
  },
  {
   "cell_type": "code",
   "execution_count": null,
   "metadata": {
    "cell_id": "550c66166233489295654c10dea1a5c8",
    "deepnote_cell_type": "code",
    "deepnote_to_be_reexecuted": false,
    "execution_millis": 2162,
    "execution_start": 1721480443955,
    "id": "_h0mMyflhhXR",
    "outputId": "f11903ec-e4cf-46df-e9a8-ff29842e992a",
    "source_hash": null
   },
   "outputs": [
    {
     "ename": "NameError",
     "evalue": "name 'name' is not defined",
     "output_type": "error",
     "traceback": [
      "\u001b[1;31m---------------------------------------------------------------------------\u001b[0m",
      "\u001b[1;31mNameError\u001b[0m                                 Traceback (most recent call last)",
      "\u001b[1;32m<ipython-input-39-2581b165079f>\u001b[0m in \u001b[0;36m<module>\u001b[1;34m\u001b[0m\n\u001b[0;32m      8\u001b[0m     \u001b[0mprint\u001b[0m\u001b[1;33m(\u001b[0m\u001b[1;34m\"Hello,\"\u001b[0m \u001b[1;33m,\u001b[0m\u001b[0mname\u001b[0m\u001b[1;33m)\u001b[0m\u001b[1;33m\u001b[0m\u001b[0m\n\u001b[0;32m      9\u001b[0m \u001b[1;33m\u001b[0m\u001b[0m\n\u001b[1;32m---> 10\u001b[1;33m \u001b[0mmain\u001b[0m\u001b[1;33m(\u001b[0m\u001b[1;33m)\u001b[0m\u001b[1;33m\u001b[0m\u001b[0m\n\u001b[0m",
      "\u001b[1;32m<ipython-input-39-2581b165079f>\u001b[0m in \u001b[0;36mmain\u001b[1;34m()\u001b[0m\n\u001b[0;32m      3\u001b[0m \u001b[1;32mdef\u001b[0m \u001b[0mmain\u001b[0m\u001b[1;33m(\u001b[0m\u001b[1;33m)\u001b[0m\u001b[1;33m:\u001b[0m\u001b[1;33m\u001b[0m\u001b[0m\n\u001b[0;32m      4\u001b[0m     \u001b[0mname\u001b[0m \u001b[1;33m=\u001b[0m \u001b[0minput\u001b[0m\u001b[1;33m(\u001b[0m\u001b[1;34m\"What is your name? \"\u001b[0m\u001b[1;33m)\u001b[0m\u001b[1;33m\u001b[0m\u001b[0m\n\u001b[1;32m----> 5\u001b[1;33m     \u001b[0mhello\u001b[0m\u001b[1;33m(\u001b[0m\u001b[1;33m)\u001b[0m\u001b[1;33m\u001b[0m\u001b[0m\n\u001b[0m\u001b[0;32m      6\u001b[0m \u001b[1;33m\u001b[0m\u001b[0m\n\u001b[0;32m      7\u001b[0m \u001b[1;32mdef\u001b[0m \u001b[0mhello\u001b[0m\u001b[1;33m(\u001b[0m\u001b[1;33m)\u001b[0m\u001b[1;33m:\u001b[0m\u001b[1;33m\u001b[0m\u001b[0m\n",
      "\u001b[1;32m<ipython-input-39-2581b165079f>\u001b[0m in \u001b[0;36mhello\u001b[1;34m()\u001b[0m\n\u001b[0;32m      6\u001b[0m \u001b[1;33m\u001b[0m\u001b[0m\n\u001b[0;32m      7\u001b[0m \u001b[1;32mdef\u001b[0m \u001b[0mhello\u001b[0m\u001b[1;33m(\u001b[0m\u001b[1;33m)\u001b[0m\u001b[1;33m:\u001b[0m\u001b[1;33m\u001b[0m\u001b[0m\n\u001b[1;32m----> 8\u001b[1;33m     \u001b[0mprint\u001b[0m\u001b[1;33m(\u001b[0m\u001b[1;34m\"Hello,\"\u001b[0m \u001b[1;33m,\u001b[0m\u001b[0mname\u001b[0m\u001b[1;33m)\u001b[0m\u001b[1;33m\u001b[0m\u001b[0m\n\u001b[0m\u001b[0;32m      9\u001b[0m \u001b[1;33m\u001b[0m\u001b[0m\n\u001b[0;32m     10\u001b[0m \u001b[0mmain\u001b[0m\u001b[1;33m(\u001b[0m\u001b[1;33m)\u001b[0m\u001b[1;33m\u001b[0m\u001b[0m\n",
      "\u001b[1;31mNameError\u001b[0m: name 'name' is not defined"
     ]
    }
   ],
   "source": [
    "del name\n",
    "\n",
    "def main():\n",
    "    name = input(\"What is your name? \")\n",
    "    hello()\n",
    "\n",
    "def hello():\n",
    "    print(\"Hello,\" , name)\n",
    "\n",
    "main()"
   ]
  },
  {
   "cell_type": "markdown",
   "metadata": {
    "cell_id": "5ef5ef4d6d504bf9bd6040cdbfdc1175",
    "deepnote_cell_type": "text-cell-h2",
    "formattedRanges": [],
    "id": "9URE8x81hhXR"
   },
   "source": [
    "## Practicing the new approach on a calculator"
   ]
  },
  {
   "cell_type": "markdown",
   "metadata": {
    "cell_id": "a0056fd33acb477abc14c9e00e9215a5",
    "deepnote_cell_type": "text-cell-p",
    "formattedRanges": [
     {
      "fromCodePoint": 83,
      "marks": {
       "bold": true
      },
      "toCodePoint": 89,
      "type": "marks"
     }
    ],
    "id": "d1eTIlxFhhXR"
   },
   "source": [
    "We can practice the new (main) approach on a calculator. Also we’re looking at the <b>RETURN</b> function."
   ]
  },
  {
   "cell_type": "code",
   "execution_count": 43,
   "metadata": {
    "cell_id": "6a617740d3334d78a616611d95752c15",
    "deepnote_cell_type": "code",
    "deepnote_to_be_reexecuted": false,
    "execution_millis": 2047,
    "execution_start": 1721480980066,
    "id": "64P8oIHEhhXR",
    "outputId": "181518cc-d70d-4062-8075-5eb2c500a0f5",
    "source_hash": null
   },
   "outputs": [
    {
     "name": "stdout",
     "output_type": "stream",
     "text": [
      "The value of x is 7.\n",
      "X squared is 49.\n"
     ]
    }
   ],
   "source": [
    "def main():\n",
    "    x = int(input(\"What's the value of x? \"))\n",
    "    print(f\"The value of x is {x}.\")\n",
    "    print(\"X squared is \", square(x),\".\", sep=\"\")\n",
    "\n",
    "def square(n):\n",
    "    return n * n #alternatively return n**2 or pow(n,2)\n",
    "\n",
    "main()"
   ]
  },
  {
   "cell_type": "markdown",
   "metadata": {
    "cell_id": "286c3b52f58a4ffd8b00b8772b801291",
    "deepnote_cell_type": "text-cell-h2",
    "formattedRanges": [],
    "id": "8xfMXvA-hhXR"
   },
   "source": [
    "## Other things …"
   ]
  },
  {
   "cell_type": "markdown",
   "metadata": {
    "cell_id": "f02e9bfab3a54a44afc489f8bbb260c7",
    "deepnote_cell_type": "text-cell-p",
    "formattedRanges": [],
    "id": "OgPsN3H8hhXR"
   },
   "source": [
    "How to insert a long comment."
   ]
  },
  {
   "cell_type": "code",
   "execution_count": 44,
   "metadata": {
    "cell_id": "730e314e5a634b76a9144416b599936a",
    "deepnote_cell_type": "code",
    "deepnote_to_be_reexecuted": false,
    "execution_millis": 58,
    "execution_start": 1721304589808,
    "id": "0Fe78JSqhhXR",
    "outputId": "f40e3be2-132e-4444-fde1-0481b1d9c901",
    "source_hash": null
   },
   "outputs": [
    {
     "name": "stdout",
     "output_type": "stream",
     "text": [
      "Hi!\n"
     ]
    }
   ],
   "source": [
    "'''\n",
    "This is a long comment.\n",
    "'''\n",
    "print(\"Hi!\")"
   ]
  },
  {
   "cell_type": "markdown",
   "metadata": {
    "cell_id": "038f00242f444e4bb757e43219d92615",
    "deepnote_cell_type": "text-cell-p",
    "formattedRanges": [],
    "id": "EfOLrfb4hhXS"
   },
   "source": [
    "If I wanted to print out the quotes character, there are 2 ways:"
   ]
  },
  {
   "cell_type": "code",
   "execution_count": null,
   "metadata": {
    "cell_id": "b67de117904e462a9656f7346e793d8d",
    "deepnote_cell_type": "code",
    "deepnote_to_be_reexecuted": false,
    "execution_millis": 422,
    "execution_start": 1721404807485,
    "id": "oa8qBLMDhhXS",
    "outputId": "7fdf0bb9-486f-4227-aba1-15d7dfc2b842",
    "source_hash": null
   },
   "outputs": [
    {
     "name": "stdout",
     "output_type": "stream",
     "text": [
      "Hello, \"friend\"\n",
      "Hello, \"friend\"\n"
     ]
    }
   ],
   "source": [
    "# Option 1\n",
    "print(\"Hello, \\\"friend\\\"\")\n",
    "\n",
    "# Option 2\n",
    "print('Hello, \"friend\"')"
   ]
  },
  {
   "cell_type": "markdown",
   "metadata": {
    "created_in_deepnote_cell": true,
    "deepnote_cell_type": "markdown",
    "id": "asv2KuQThhXS"
   },
   "source": [
    "<a style='text-decoration:none;line-height:16px;display:flex;color:#5B5B62;padding:10px;justify-content:end;' href='https://deepnote.com?utm_source=created-in-deepnote-cell&projectId=2d4225c0-9124-4cda-8312-4dddffe8b494' target=\"_blank\">\n",
    "<img alt='Created in deepnote.com' style='display:inline;max-height:16px;margin:0px;margin-right:7.5px;' src='data:image/svg+xml;base64,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' > </img>\n",
    "Created in <span style='font-weight:600;margin-left:4px;'>Deepnote</span></a>"
   ]
  }
 ],
 "metadata": {
  "colab": {
   "provenance": []
  },
  "deepnote_execution_queue": [],
  "deepnote_notebook_id": "a64ca1c684e6406cac9aec79193fe9f6",
  "deepnote_persisted_session": {
   "createdAt": "2024-07-20T13:35:27.741Z"
  },
  "kernelspec": {
   "display_name": "Python 36",
   "language": "python",
   "name": "python3"
  },
  "language_info": {
   "codemirror_mode": {
    "name": "ipython",
    "version": 3
   },
   "file_extension": ".py",
   "mimetype": "text/x-python",
   "name": "python",
   "nbconvert_exporter": "python",
   "pygments_lexer": "ipython3",
   "version": "3.6.6"
  }
 },
 "nbformat": 4,
 "nbformat_minor": 0
}
