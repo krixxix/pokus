{
 "cells": [
  {
   "cell_type": "markdown",
   "metadata": {
    "cell_id": "0030bb0372ba493fab244751d96d51c5",
    "deepnote_cell_type": "text-cell-h1",
    "formattedRanges": []
   },
   "source": [
    "# Lecture 2 - Loops"
   ]
  },
  {
   "cell_type": "markdown",
   "metadata": {
    "cell_id": "a882269210ca434c866f3029375c9c37",
    "deepnote_cell_type": "text-cell-h2",
    "formattedRanges": []
   },
   "source": [
    "## WHILE Loop"
   ]
  },
  {
   "cell_type": "markdown",
   "metadata": {
    "cell_id": "77273287f19e48fca6c74333213eccc9",
    "deepnote_cell_type": "text-cell-p",
    "formattedRanges": []
   },
   "source": [
    "Imagine I want my program to meow"
   ]
  },
  {
   "cell_type": "code",
   "execution_count": null,
   "metadata": {
    "cell_id": "f8e3cdad542043f1b4106bd022d82715",
    "deepnote_cell_type": "code",
    "deepnote_to_be_reexecuted": false,
    "execution_millis": 190,
    "execution_start": 1721841384498,
    "source_hash": null
   },
   "outputs": [
    {
     "name": "stdout",
     "output_type": "stream",
     "text": [
      "meow\n",
      "meow\n",
      "meow\n",
      "meow\n",
      "meow\n",
      "meow\n"
     ]
    }
   ],
   "source": [
    "# The easiest way to do it is\n",
    "print(\"meow\")\n",
    "print(\"meow\")\n",
    "print(\"meow\")\n",
    "\n",
    "# We can do this with a loop\n",
    "i = 3\n",
    "while i != 0:\n",
    "    print(\"meow\")\n",
    "    i = i - 1 # each iteration decreases i by 1\n"
   ]
  },
  {
   "cell_type": "markdown",
   "metadata": {
    "cell_id": "2e795292ef8d451dbceb146e7ea72f79",
    "deepnote_cell_type": "image",
    "deepnote_img_src": "image-20240724-191939.png",
    "deepnote_img_width": "50%"
   },
   "source": [
    "<img src=\"figures/image-20240724-191939.png\" width=\"25%\" align=\"\" />"
   ]
  },
  {
   "cell_type": "markdown",
   "metadata": {
    "cell_id": "6400feea05674ea388a9fd030c89943f",
    "deepnote_cell_type": "text-cell-p",
    "formattedRanges": []
   },
   "source": [
    "FLOWCHART symbols description:"
   ]
  },
  {
   "cell_type": "markdown",
   "metadata": {
    "cell_id": "ac8454f0ce8949abb58cbc039264c224",
    "deepnote_cell_type": "text-cell-bullet",
    "formattedRanges": []
   },
   "source": [
    "- oval = convention for start or stop"
   ]
  },
  {
   "cell_type": "markdown",
   "metadata": {
    "cell_id": "39389c2469cb42c6bfab3e5f2d55ca39",
    "deepnote_cell_type": "text-cell-bullet",
    "formattedRanges": []
   },
   "source": [
    "- rectangles = statement of code like assignment, printing etc."
   ]
  },
  {
   "cell_type": "markdown",
   "metadata": {
    "cell_id": "d785ffb16d344d83afebf18995859c7a",
    "deepnote_cell_type": "text-cell-bullet",
    "formattedRanges": []
   },
   "source": [
    "- diamonds = questions, conditions"
   ]
  },
  {
   "cell_type": "markdown",
   "metadata": {
    "cell_id": "12baf7f23c5a445f95f412b9fa6be0de",
    "deepnote_cell_type": "text-cell-p",
    "formattedRanges": []
   },
   "source": [
    "I can ofc change the logic of counting: not from 3 to 0, but to 0 to 3"
   ]
  },
  {
   "cell_type": "code",
   "execution_count": null,
   "metadata": {
    "cell_id": "8be7b1322c144eb49e105f3e2068353f",
    "deepnote_cell_type": "code",
    "deepnote_to_be_reexecuted": false,
    "execution_millis": 81,
    "execution_start": 1721841831480,
    "source_hash": null
   },
   "outputs": [
    {
     "name": "stdout",
     "output_type": "stream",
     "text": [
      "meow\n",
      "meow\n",
      "meow\n"
     ]
    }
   ],
   "source": [
    "i = 0\n",
    "while i < 3:\n",
    "    print(\"meow\")\n",
    "    i = i + 1\n",
    "\n",
    "i = 0\n",
    "while i < 3:\n",
    "    print(\"meow\")\n",
    "    i += 1 # good to know"
   ]
  },
  {
   "cell_type": "markdown",
   "metadata": {
    "cell_id": "77eea569439b4431a7cb8bf61baed69e",
    "deepnote_cell_type": "text-cell-h2",
    "formattedRanges": []
   },
   "source": [
    "## FOR Loop"
   ]
  },
  {
   "cell_type": "markdown",
   "metadata": {
    "cell_id": "6d49409e86994c238d1ce06e00b3f052",
    "deepnote_cell_type": "text-cell-p",
    "formattedRanges": []
   },
   "source": [
    "For loop lets you iterate through list of items."
   ]
  },
  {
   "cell_type": "code",
   "execution_count": null,
   "metadata": {
    "cell_id": "58737398eaaf424c9fe2150f33db6ca3",
    "deepnote_cell_type": "code",
    "deepnote_to_be_reexecuted": false,
    "execution_millis": 56,
    "execution_start": 1721842636008,
    "source_hash": null
   },
   "outputs": [
    {
     "name": "stdout",
     "output_type": "stream",
     "text": [
      "meow\n",
      "meow\n",
      "meow\n"
     ]
    }
   ],
   "source": [
    "# Here I specify the list of items to iterate through:\n",
    "for i in [0, 1, 2]:\n",
    "    print(\"meow\")\n",
    "\n",
    "# The same thing can be done with e.g.\n",
    "for i in [0, 0, 0]:\n",
    "    print(\"meow\")"
   ]
  },
  {
   "cell_type": "markdown",
   "metadata": {
    "cell_id": "9730d3f6ddc8432e9cb48f5a5fb7c924",
    "deepnote_cell_type": "text-cell-p",
    "formattedRanges": [
     {
      "fromCodePoint": 36,
      "marks": {
       "bold": true
      },
      "toCodePoint": 69,
      "type": "marks"
     }
    ]
   },
   "source": [
    "The code above seems to be working. BUT ALWAYS CONSIDER EXTREME CASES: Would I enjoy it while counting to 1 milion?"
   ]
  },
  {
   "cell_type": "markdown",
   "metadata": {
    "cell_id": "e0e7b9a07b3342cbacbe340971b10b05",
    "deepnote_cell_type": "text-cell-p",
    "formattedRanges": [
     {
      "fromCodePoint": 42,
      "marks": {
       "bold": true
      },
      "toCodePoint": 47,
      "type": "marks"
     }
    ]
   },
   "source": [
    "I can solve this with using the funtction range()"
   ]
  },
  {
   "cell_type": "code",
   "execution_count": null,
   "metadata": {
    "cell_id": "8bef98cc5a554be19bdda34815d8de11",
    "deepnote_cell_type": "code",
    "deepnote_to_be_reexecuted": false,
    "execution_millis": 95,
    "execution_start": 1721842838830,
    "source_hash": null
   },
   "outputs": [
    {
     "name": "stdout",
     "output_type": "stream",
     "text": [
      "0\n",
      "1\n",
      "2\n"
     ]
    }
   ],
   "source": [
    "for i in range(3):\n",
    "    print(i)\n",
    "\n",
    "# range function with the lower and upper bounds\n",
    "for i in range(0,3):\n",
    "    print(i)"
   ]
  },
  {
   "cell_type": "markdown",
   "metadata": {
    "cell_id": "63cbd19ca1ca4f6aabce44704410c03a",
    "deepnote_cell_type": "text-cell-p",
    "formattedRanges": []
   },
   "source": [
    "Pythonic improvement: if you need a variable just because the programming feature requires it to do some kind of counting or automatic updating, but you as a human don’t care about its value, a pythonic improvement would be to name the variable _"
   ]
  },
  {
   "cell_type": "code",
   "execution_count": null,
   "metadata": {
    "cell_id": "cefd15ccd6884fe2acf98f30d3da38e5",
    "deepnote_cell_type": "code",
    "deepnote_to_be_reexecuted": false,
    "execution_millis": 65,
    "execution_start": 1721843699313,
    "source_hash": null
   },
   "outputs": [
    {
     "name": "stdout",
     "output_type": "stream",
     "text": [
      "0\n",
      "1\n",
      "2\n"
     ]
    }
   ],
   "source": [
    "for _ in range(3):\n",
    "    print(_)"
   ]
  },
  {
   "cell_type": "markdown",
   "metadata": {
    "cell_id": "7a277058478b462aa1d5807a87b7966d",
    "deepnote_cell_type": "text-cell-p",
    "formattedRanges": []
   },
   "source": [
    "Very pythonic way to do this:"
   ]
  },
  {
   "cell_type": "code",
   "execution_count": null,
   "metadata": {
    "cell_id": "aceb8661a65242528650e23be1935bb5",
    "deepnote_cell_type": "code",
    "deepnote_to_be_reexecuted": false,
    "execution_millis": 34,
    "execution_start": 1721843864020,
    "source_hash": null
   },
   "outputs": [
    {
     "name": "stdout",
     "output_type": "stream",
     "text": [
      "meow\n",
      "meow\n",
      "meow\n"
     ]
    }
   ],
   "source": [
    "print(\"meow\\n\" * 3, end=\"\") # I need to specify the end parameter so I don't get empty row at the end\n",
    "# The above code is a bit less readable"
   ]
  },
  {
   "cell_type": "markdown",
   "metadata": {
    "cell_id": "3af69620ccc246249681e5de812f3672",
    "deepnote_cell_type": "text-cell-p",
    "formattedRanges": []
   },
   "source": [
    "Let’s let the user decide how many times the program meows"
   ]
  },
  {
   "cell_type": "code",
   "execution_count": null,
   "metadata": {
    "cell_id": "7bb12144473542e490f78711a3ecc8db",
    "deepnote_cell_type": "code"
   },
   "outputs": [],
   "source": [
    "n = int(input(\"What's n?\"))\n",
    "\n",
    "if n < 0:\n",
    "    n = int(input(\"What's n?\"))\n",
    "    if n < 0:\n",
    "        n = int(input(\"What's n?\"))\n",
    "        # ... etc.\n",
    "        # I cannot check for negative numbers forever"
   ]
  },
  {
   "cell_type": "markdown",
   "metadata": {
    "cell_id": "24a817f26fa044cbb7a535cc4961d849",
    "deepnote_cell_type": "text-cell-p",
    "formattedRanges": []
   },
   "source": [
    "Solving the above problem with WHILE Loop (my silly solution)"
   ]
  },
  {
   "cell_type": "code",
   "execution_count": null,
   "metadata": {
    "cell_id": "440396ea856a4af198feacfd1c8de4b1",
    "deepnote_cell_type": "code",
    "deepnote_to_be_reexecuted": false,
    "execution_millis": 8818,
    "execution_start": 1721844156205,
    "source_hash": null
   },
   "outputs": [
    {
     "name": "stdout",
     "output_type": "stream",
     "text": [
      "meow\n",
      "meow\n",
      "meow\n"
     ]
    }
   ],
   "source": [
    "n = -1\n",
    "while n < 0:\n",
    "    n = int(input(\"What's n?\"))\n",
    "\n",
    "for i in range(n):\n",
    "    print(\"meow\")"
   ]
  },
  {
   "cell_type": "markdown",
   "metadata": {
    "cell_id": "c77eed9fe48a4c18b740e55f8b72bcbf",
    "deepnote_cell_type": "text-cell-p",
    "formattedRanges": [
     {
      "fromCodePoint": 140,
      "marks": {
       "bold": true
      },
      "toCodePoint": 150,
      "type": "marks"
     },
     {
      "fromCodePoint": 217,
      "marks": {
       "bold": true
      },
      "toCodePoint": 222,
      "type": "marks"
     }
    ]
   },
   "source": [
    "A very common thing in Python, when I wanna get user input that matches some expectation (all positive, all negative, …), I immediately say while True (!! Infinite loop!!) … so we need to find a way out of this loop: BREAK"
   ]
  },
  {
   "cell_type": "code",
   "execution_count": null,
   "metadata": {
    "cell_id": "aa36d65d106a4afab72bc2810e221463",
    "deepnote_cell_type": "code",
    "deepnote_to_be_reexecuted": false,
    "execution_millis": 1942,
    "execution_start": 1721844415919,
    "source_hash": null
   },
   "outputs": [
    {
     "name": "stdout",
     "output_type": "stream",
     "text": [
      "meow\n",
      "meow\n",
      "meow\n",
      "meow\n"
     ]
    }
   ],
   "source": [
    "while True:\n",
    "    n = int(input(\"What's n?\"))\n",
    "    if n < 0:\n",
    "        continue\n",
    "    else:\n",
    "        break # This is the keyword to get out of the loop (even when it's indented twice it breaks the loop)\n",
    "\n",
    "for _ in range(n):\n",
    "    print(\"meow\")\n"
   ]
  },
  {
   "cell_type": "markdown",
   "metadata": {
    "cell_id": "f26c110bb16e408baf76e29be0c16d79",
    "deepnote_cell_type": "text-cell-p",
    "formattedRanges": []
   },
   "source": [
    "And a little simplification:"
   ]
  },
  {
   "cell_type": "code",
   "execution_count": null,
   "metadata": {
    "cell_id": "6e81519b7ec64f64bdecab4aaf30d9d0",
    "deepnote_cell_type": "code",
    "deepnote_to_be_reexecuted": false,
    "execution_millis": 2445,
    "execution_start": 1721844427525,
    "source_hash": null
   },
   "outputs": [
    {
     "name": "stdout",
     "output_type": "stream",
     "text": [
      "meow\n",
      "meow\n",
      "meow\n"
     ]
    }
   ],
   "source": [
    "while True:\n",
    "    n = int(input(\"What's n?\"))\n",
    "    if n > 0:\n",
    "        break # This is the keyword to get out of the loop\n",
    "\n",
    "for _ in range(n):\n",
    "    print(\"meow\")"
   ]
  },
  {
   "cell_type": "markdown",
   "metadata": {
    "cell_id": "e448c362ac284bd58db194a8b35318a2",
    "deepnote_cell_type": "text-cell-h2",
    "formattedRanges": []
   },
   "source": [
    "## THE DEF MAIN APPROACH"
   ]
  },
  {
   "cell_type": "code",
   "execution_count": null,
   "metadata": {
    "cell_id": "f67ad4248f884b639ae0daf713297b6e",
    "deepnote_cell_type": "code",
    "deepnote_to_be_reexecuted": false,
    "execution_millis": 35,
    "execution_start": 1721844761874,
    "source_hash": null
   },
   "outputs": [
    {
     "name": "stdout",
     "output_type": "stream",
     "text": [
      "meow\n",
      "meow\n",
      "meow\n"
     ]
    }
   ],
   "source": [
    "def main():\n",
    "    meow(3)\n",
    "\n",
    "def meow(n):\n",
    "    for _ in range(n):\n",
    "        print(\"meow\")\n",
    "\n",
    "main()"
   ]
  },
  {
   "cell_type": "markdown",
   "metadata": {
    "cell_id": "be918ce1edf2478399bebdfeb7df9400",
    "deepnote_cell_type": "text-cell-p",
    "formattedRanges": []
   },
   "source": [
    "slightly improved:"
   ]
  },
  {
   "cell_type": "code",
   "execution_count": null,
   "metadata": {
    "cell_id": "8b9ae89158834193a866c0f4f2f52c48",
    "deepnote_cell_type": "code",
    "deepnote_to_be_reexecuted": false,
    "execution_millis": 6381,
    "execution_start": 1721886631459,
    "source_hash": null
   },
   "outputs": [
    {
     "name": "stdout",
     "output_type": "stream",
     "text": [
      "meow\n",
      "meow\n"
     ]
    }
   ],
   "source": [
    "def main():\n",
    "    number = get_number()\n",
    "    meow(number)\n",
    "\n",
    "# option 1\n",
    "def get_number():\n",
    "    while True:\n",
    "        n = int(input(\"What's n?\"))\n",
    "        if n > 0:\n",
    "            return n\n",
    "            # here I need to a) convert input into int (otherwise it's str), \n",
    "            #                b) check if the value is positive\n",
    "            #                c) if positive, break out of the infinite loop with RETURN\n",
    "\n",
    "\"\"\"\n",
    "# option 2\n",
    "def get_number():\n",
    "    while True:\n",
    "        n = int(input(\"What's n?\"))\n",
    "        if n > 0:\n",
    "            break\n",
    "    return n\n",
    "\"\"\"\n",
    "\n",
    "def meow(n):\n",
    "    for _ in range(n):\n",
    "        print(\"meow\")\n",
    "\n",
    "main()"
   ]
  },
  {
   "cell_type": "markdown",
   "metadata": {
    "cell_id": "c3b82f603e544fd69b44acc404b47b33",
    "deepnote_cell_type": "text-cell-h2",
    "formattedRanges": []
   },
   "source": [
    "## LISTS and iterating through them"
   ]
  },
  {
   "cell_type": "markdown",
   "metadata": {
    "cell_id": "4529400fac7e4f72bc573a31f47704f4",
    "deepnote_cell_type": "text-cell-p",
    "formattedRanges": []
   },
   "source": [
    "I define a list by []"
   ]
  },
  {
   "cell_type": "markdown",
   "metadata": {
    "cell_id": "b3e0357f1d004c7f9cfc2eb491fb1ae7",
    "deepnote_cell_type": "text-cell-p",
    "formattedRanges": []
   },
   "source": [
    "When I want to go inside of the variable to get a specific value (I wanna index into the list), I am going to use [] "
   ]
  },
  {
   "cell_type": "code",
   "execution_count": null,
   "metadata": {
    "cell_id": "ed51ce3dbc644ded838ff40f6486c16f",
    "deepnote_cell_type": "code",
    "deepnote_to_be_reexecuted": false,
    "execution_millis": 59,
    "execution_start": 1721886840059,
    "source_hash": null
   },
   "outputs": [
    {
     "name": "stdout",
     "output_type": "stream",
     "text": [
      "Hermione\n",
      "Harry\n",
      "Ron\n"
     ]
    }
   ],
   "source": [
    "students = [\"Hermione\", \"Harry\", \"Ron\"]\n",
    "print(students[0])\n",
    "print(students[1])\n",
    "print(students[2])"
   ]
  },
  {
   "cell_type": "markdown",
   "metadata": {
    "cell_id": "7d4f5a2e68e64275a1fdfb512d5877a1",
    "deepnote_cell_type": "text-cell-p",
    "formattedRanges": []
   },
   "source": [
    "The code above is not optimal .. I can help myself with a for loop and to iterate through a list"
   ]
  },
  {
   "cell_type": "code",
   "execution_count": null,
   "metadata": {
    "cell_id": "4d4941774e6841a9a79a0668fd4438aa",
    "deepnote_cell_type": "code"
   },
   "outputs": [],
   "source": [
    "students = [\"Hermione\", \"Harry\", \"Ron\"]\n",
    "\n",
    "# here I should NOT use a \"_\" in the for loop, for I am actually using the variable\n",
    "# I should instead pick an appropriate name, e.g. studend here\n",
    "for student in students:\n",
    "    print(student)\n"
   ]
  },
  {
   "cell_type": "markdown",
   "metadata": {
    "cell_id": "a5c1f7aba4a74ef5b8df312554ac4365",
    "deepnote_cell_type": "text-cell-p",
    "formattedRanges": [
     {
      "fromCodePoint": 55,
      "marks": {
       "bold": true
      },
      "toCodePoint": 58,
      "type": "marks"
     }
    ]
   },
   "source": [
    "If I wanted to iterate using numbers: (introducing the LEN function)"
   ]
  },
  {
   "cell_type": "code",
   "execution_count": null,
   "metadata": {
    "cell_id": "908b5510f5854a22811d33104b45d5a6",
    "deepnote_cell_type": "code",
    "deepnote_to_be_reexecuted": false,
    "execution_millis": 66,
    "execution_start": 1721887448046,
    "source_hash": null
   },
   "outputs": [
    {
     "name": "stdout",
     "output_type": "stream",
     "text": [
      "1 Hermione\n",
      "2 Harry\n",
      "3 Ron\n"
     ]
    }
   ],
   "source": [
    "students = [\"Hermione\", \"Harry\", \"Ron\"]\n",
    "\n",
    "for i in range(len(students)):\n",
    "    print(i + 1, students[i]) # adding 1 just because I want users to see 1,2,3 .. not 0,1,2\n"
   ]
  },
  {
   "cell_type": "markdown",
   "metadata": {
    "cell_id": "c3c41150370e49e18d35095dd75ce0db",
    "deepnote_cell_type": "text-cell-h2",
    "formattedRanges": []
   },
   "source": [
    "## DICT (dictionaries)"
   ]
  },
  {
   "cell_type": "markdown",
   "metadata": {
    "cell_id": "2872130101b9481fb159acfd2de03026",
    "deepnote_cell_type": "text-cell-p",
    "formattedRanges": []
   },
   "source": [
    "data structure that allows you to associate 1 value with another "
   ]
  },
  {
   "cell_type": "markdown",
   "metadata": {
    "cell_id": "22adeccd89f04962bedb1321118344c6",
    "deepnote_cell_type": "text-cell-p",
    "formattedRanges": []
   },
   "source": [
    "a dictionary in english (e.g.) is bunch of words and paired definitions"
   ]
  },
  {
   "cell_type": "markdown",
   "metadata": {
    "cell_id": "7380288ce394425b927da4d92edb1663",
    "deepnote_cell_type": "text-cell-p",
    "formattedRanges": []
   },
   "source": [
    "here in python it´s just something associated with something else"
   ]
  },
  {
   "cell_type": "markdown",
   "metadata": {
    "cell_id": "f3ae11fe9b9f43d78ad4ecaa8cb7835d",
    "deepnote_cell_type": "text-cell-p",
    "formattedRanges": []
   },
   "source": [
    "list is just set of multiple values"
   ]
  },
  {
   "cell_type": "markdown",
   "metadata": {
    "cell_id": "ab0835fd7e654351bf1cec49583104b4",
    "deepnote_cell_type": "text-cell-p",
    "formattedRanges": []
   },
   "source": [
    "For example I might wanna keep track of who is in what house:"
   ]
  },
  {
   "cell_type": "markdown",
   "metadata": {
    "cell_id": "c8382dd3203e428382e212d1315eb7fe",
    "deepnote_cell_type": "image",
    "deepnote_img_src": "image-20240725-081226.png"
   },
   "source": [
    "<img src=\"figures/image-20240725-081226.png\" width=\"80%\" align=\"\" />"
   ]
  },
  {
   "cell_type": "code",
   "execution_count": null,
   "metadata": {
    "cell_id": "708a77bff7724e38b2ebcc7736d95cab",
    "deepnote_cell_type": "code"
   },
   "outputs": [],
   "source": [
    "students = [\"Hermione\", \"Harry\", \"Ron\", \"Draco\"]\n",
    "houses = [\"Gryffindor\", \"Gryffindor\", \"Gryffindor\", \"Slytherin\"]\n",
    "# students and houses lists pair together: first element in students list pair with the first element in houses list etc.\n",
    "# this approach will not work on huge lists ..."
   ]
  },
  {
   "cell_type": "code",
   "execution_count": null,
   "metadata": {
    "cell_id": "29596bd552b344aea9eca33e9c06bd62",
    "deepnote_cell_type": "code",
    "deepnote_to_be_reexecuted": false,
    "execution_millis": 97,
    "execution_start": 1722502582369,
    "source_hash": null
   },
   "outputs": [
    {
     "name": "stdout",
     "output_type": "stream",
     "text": [
      "Gryffindor\n",
      "Gryffindor\n",
      "Gryffindor\n",
      "Slytherin\n"
     ]
    }
   ],
   "source": [
    "# keys on the left, values on the right\n",
    "students = {\"Hermione\": \"Gryffindor\", \n",
    "            \"Harry\": \"Gryffindor\", \n",
    "            \"Ron\": \"Gryffindor\",\n",
    "            \"Draco\": \"Slytherin\"\n",
    "}\n",
    "\n",
    "# print(students[0]) # this does not work :(\n",
    "print(students[\"Hermione\"])\n",
    "print(students[\"Harry\"])\n",
    "print(students[\"Ron\"])\n",
    "print(students[\"Draco\"])"
   ]
  },
  {
   "cell_type": "markdown",
   "metadata": {
    "cell_id": "71f6ba86433540cc99d099391df2ee23",
    "deepnote_cell_type": "text-cell-p",
    "formattedRanges": []
   },
   "source": [
    "Iterating through a dictionary:"
   ]
  },
  {
   "cell_type": "code",
   "execution_count": null,
   "metadata": {
    "cell_id": "044978cb66b64728a6e9dd9aae6ad215",
    "deepnote_cell_type": "code",
    "deepnote_to_be_reexecuted": false,
    "execution_millis": 66,
    "execution_start": 1721888699933,
    "source_hash": null
   },
   "outputs": [
    {
     "name": "stdout",
     "output_type": "stream",
     "text": [
      "Hermione\n",
      "Harry\n",
      "Ron\n",
      "Draco\n",
      "Hermione, Gryffindor\n",
      "Harry, Gryffindor\n",
      "Ron, Gryffindor\n",
      "Draco, Slytherin\n"
     ]
    }
   ],
   "source": [
    "students = {\"Hermione\": \"Gryffindor\", \n",
    "            \"Harry\": \"Gryffindor\", \n",
    "            \"Ron\": \"Gryffindor\",\n",
    "            \"Draco\": \"Slytherin\"\n",
    "}\n",
    "\n",
    "# this will only print my keys\n",
    "for student in students:\n",
    "    print(student)\n",
    "\n",
    "# this will print both the keys and the values\n",
    "for student in students:\n",
    "    print(student, students[student], sep=\", \")\n"
   ]
  },
  {
   "cell_type": "markdown",
   "metadata": {
    "cell_id": "fb92c9cb55bf482499d64705ce6fbf1b",
    "deepnote_cell_type": "text-cell-p",
    "formattedRanges": []
   },
   "source": [
    "What if we had more information about each of our students?"
   ]
  },
  {
   "cell_type": "markdown",
   "metadata": {
    "cell_id": "193c0c159e9a44a7b574c7841fec7021",
    "deepnote_cell_type": "image",
    "deepnote_img_src": "image-20240725-082855.png"
   },
   "source": [
    "<img src=\"figures/image-20240725-082855.png\" width=\"\" align=\"\" />"
   ]
  },
  {
   "cell_type": "markdown",
   "metadata": {
    "cell_id": "0c6e94ee83fe4176b5022ad420cacf3e",
    "deepnote_cell_type": "text-cell-p",
    "formattedRanges": []
   },
   "source": [
    "Solution: I want to compose a list of dictionaries"
   ]
  },
  {
   "cell_type": "markdown",
   "metadata": {
    "cell_id": "cc63f4816ed542d5bcc54a51acd89619",
    "deepnote_cell_type": "text-cell-p",
    "formattedRanges": []
   },
   "source": [
    "I have 4 students (list of 4 students) and each of those students is itself a dictionary (a collection of key-value pairs)"
   ]
  },
  {
   "cell_type": "markdown",
   "metadata": {
    "cell_id": "a382a5e0d4b949b8839361f5773ebb97",
    "deepnote_cell_type": "text-cell-p",
    "formattedRanges": [
     {
      "fromCodePoint": 49,
      "marks": {
       "bold": true
      },
      "toCodePoint": 53,
      "type": "marks"
     }
    ]
   },
   "source": [
    "also, in the code below we can see a new keyword NONE"
   ]
  },
  {
   "cell_type": "code",
   "execution_count": null,
   "metadata": {
    "cell_id": "3afde6de01e94fceb6e91e136a54f280",
    "deepnote_cell_type": "code",
    "deepnote_to_be_reexecuted": false,
    "execution_millis": 19,
    "execution_start": 1722503034399,
    "source_hash": null
   },
   "outputs": [
    {
     "name": "stdout",
     "output_type": "stream",
     "text": [
      "{'name': 'Hermione', 'house': 'Gryffindor', 'patronus': 'Otter'}\n",
      "{'name': 'Ron', 'house': 'Gryffindor', 'patronus': 'Stag'}\n",
      "{'name': 'Ron', 'house': 'Gryffindor', 'patronus': 'Jack Russel terrier'}\n",
      "{'name': 'Draco', 'house': 'Slytherin', 'patronus': None}\n",
      "Hermione, Gryffindor\n",
      "Ron, Gryffindor\n",
      "Ron, Gryffindor\n",
      "Draco, Slytherin\n"
     ]
    }
   ],
   "source": [
    "students = [\n",
    "    {\"name\": \"Hermione\", \"house\": \"Gryffindor\", \"patronus\": \"Otter\"},\n",
    "    {\"name\": \"Ron\", \"house\": \"Gryffindor\", \"patronus\": \"Stag\"},\n",
    "    {\"name\": \"Ron\", \"house\": \"Gryffindor\", \"patronus\": \"Jack Russel terrier\"},\n",
    "    {\"name\": \"Draco\", \"house\": \"Slytherin\", \"patronus\": None}\n",
    "]\n",
    "\n",
    "# this will print all the dictionaries\n",
    "#  - maybe it´s safe to say that the student variable becomes the distionary and gets printed\n",
    "for student in students:\n",
    "    print(student)\n",
    "\n",
    "# this will print only the selected values\n",
    "for student in students:\n",
    "    print(student[\"name\"], student[\"house\"], sep=\", \")"
   ]
  },
  {
   "cell_type": "markdown",
   "metadata": {
    "cell_id": "ea9988dc210a451b9e55f8b8b13fc2b7",
    "deepnote_cell_type": "text-cell-p",
    "formattedRanges": []
   },
   "source": [
    "Let´s print a wall from Mario game"
   ]
  },
  {
   "cell_type": "markdown",
   "metadata": {
    "cell_id": "0d6484b9319c4f97abd3bf9b2cc9cfb5",
    "deepnote_cell_type": "image",
    "deepnote_img_src": "image-20240801-111106.png"
   },
   "source": [
    "<img src=\"figures/image-20240801-111106.png\" width=\"\" align=\"\" />"
   ]
  },
  {
   "cell_type": "markdown",
   "metadata": {
    "cell_id": "39b8260043b64805801ce960c8f2d31b",
    "deepnote_cell_type": "text-cell-p",
    "formattedRanges": []
   },
   "source": [
    "I can do a text approximation with"
   ]
  },
  {
   "cell_type": "code",
   "execution_count": null,
   "metadata": {
    "cell_id": "c2cf2e90ac284c98b2d9e7fca5c0e8c3",
    "deepnote_cell_type": "code",
    "deepnote_to_be_reexecuted": false,
    "execution_millis": 23,
    "execution_start": 1722503525323,
    "source_hash": null
   },
   "outputs": [
    {
     "name": "stdout",
     "output_type": "stream",
     "text": [
      "#\n",
      "#\n",
      "#\n"
     ]
    }
   ],
   "source": [
    "for _ in range(3):\n",
    "    print(\"#\")"
   ]
  },
  {
   "cell_type": "markdown",
   "metadata": {
    "cell_id": "3ed35e49a8fc40299672fa67ed295945",
    "deepnote_cell_type": "text-cell-p",
    "formattedRanges": []
   },
   "source": [
    "Doing it with the def-main approach"
   ]
  },
  {
   "cell_type": "code",
   "execution_count": null,
   "metadata": {
    "cell_id": "a1f2f558b0764e4a87fd9bdd62a26656",
    "deepnote_cell_type": "code",
    "deepnote_to_be_reexecuted": false,
    "execution_millis": 120,
    "execution_start": 1722503595966,
    "source_hash": null
   },
   "outputs": [
    {
     "name": "stdout",
     "output_type": "stream",
     "text": [
      "#\n",
      "#\n",
      "#\n"
     ]
    }
   ],
   "source": [
    "def main():\n",
    "    print_column(3)\n",
    "\n",
    "def print_column(height):\n",
    "    for _ in range(height):\n",
    "        print(\"#\")\n",
    "\n",
    "main()"
   ]
  },
  {
   "cell_type": "markdown",
   "metadata": {
    "cell_id": "d530fca94bfa4740b1207b3768d00d70",
    "deepnote_cell_type": "text-cell-p",
    "formattedRanges": []
   },
   "source": [
    "Now let´s print this group of blocks"
   ]
  },
  {
   "cell_type": "markdown",
   "metadata": {
    "cell_id": "16e41e0f0cbd4745812e5df8e4ae1c9c",
    "deepnote_cell_type": "image",
    "deepnote_img_src": "image-20240801-111808.png"
   },
   "source": [
    "<img src=\"figures/image-20240801-111808.png\" width=\"\" align=\"\" />"
   ]
  },
  {
   "cell_type": "code",
   "execution_count": null,
   "metadata": {
    "cell_id": "4a8aadc1dee04f128bae4dedbb8cb4fa",
    "deepnote_cell_type": "code",
    "deepnote_to_be_reexecuted": false,
    "execution_millis": 95,
    "execution_start": 1722503994490,
    "source_hash": null
   },
   "outputs": [
    {
     "name": "stdout",
     "output_type": "stream",
     "text": [
      "????\n"
     ]
    }
   ],
   "source": [
    "def main():\n",
    "    print_row(4)\n",
    "\n",
    "def print_row(width):\n",
    "    print(\"? \" * width)\n",
    "\n",
    "main()"
   ]
  },
  {
   "cell_type": "markdown",
   "metadata": {
    "cell_id": "f98c62892f5e47cabaf4cd615db1be0a",
    "deepnote_cell_type": "text-cell-p",
    "formattedRanges": []
   },
   "source": [
    "Now this block (2 dimensional - width x height)"
   ]
  },
  {
   "cell_type": "markdown",
   "metadata": {
    "cell_id": "014f1de3f4d1472d8de059355878d35b",
    "deepnote_cell_type": "image",
    "deepnote_img_src": "image-20240801-112041.png"
   },
   "source": [
    "<img src=\"figures/image-20240801-112041.png\" width=\"\" align=\"\" />"
   ]
  },
  {
   "cell_type": "markdown",
   "metadata": {
    "cell_id": "0ff24fb4fe3644cdbc3e17f3c781051c",
    "deepnote_cell_type": "text-cell-p",
    "formattedRanges": []
   },
   "source": [
    "The most simple approach would look something like this (my code, but he also did it later) ..."
   ]
  },
  {
   "cell_type": "code",
   "execution_count": null,
   "metadata": {
    "cell_id": "2ecd77b338824216ba2b9db95abcb557",
    "deepnote_cell_type": "code",
    "deepnote_to_be_reexecuted": false,
    "execution_millis": 0,
    "execution_start": 1722504446569,
    "source_hash": null
   },
   "outputs": [
    {
     "name": "stdout",
     "output_type": "stream",
     "text": [
      "XXX\n",
      "XXX\n",
      "XXX\n"
     ]
    }
   ],
   "source": [
    "def main():\n",
    "    print_square(3)\n",
    "\n",
    "def print_square(size):\n",
    "    for _ in range(size):\n",
    "        print(\"X\" * size)\n",
    "\n",
    "main()"
   ]
  },
  {
   "cell_type": "markdown",
   "metadata": {
    "cell_id": "9cb2767d8cd04f0fbb00d9f9c63b2eaf",
    "deepnote_cell_type": "text-cell-p",
    "formattedRanges": []
   },
   "source": [
    "It would not be scalable to problems like rectangles, so let´s do it like this:"
   ]
  },
  {
   "cell_type": "code",
   "execution_count": null,
   "metadata": {
    "cell_id": "ab696684de2942c18fe057b7307339b1",
    "deepnote_cell_type": "code",
    "deepnote_to_be_reexecuted": false,
    "execution_millis": 79,
    "execution_start": 1722504953756,
    "source_hash": null
   },
   "outputs": [
    {
     "name": "stdout",
     "output_type": "stream",
     "text": [
      "###\n",
      "\n",
      "###\n",
      "\n",
      "###\n",
      "\n"
     ]
    }
   ],
   "source": [
    "def main():\n",
    "    print_square(3)\n",
    "\n",
    "def print_square(size):\n",
    "    \n",
    "    # for each row in square\n",
    "    for i in range(size): \n",
    "\n",
    "        # for each brick in row\n",
    "        for j in range(size):\n",
    "\n",
    "            # print brick\n",
    "            print(\"#\", end=\"\")\n",
    "\n",
    "        print() # after printing the line of bricks, I need to print a new line .. print() does that somehow\n",
    "\n",
    "main()"
   ]
  }
 ],
 "metadata": {
  "deepnote_execution_queue": [],
  "deepnote_notebook_id": "3da97aa1bd444b9e8ad282ead4c927f5",
  "deepnote_persisted_session": {
   "createdAt": "2024-08-01T09:55:42.144Z"
  },
  "language_info": {
   "name": "python"
  }
 },
 "nbformat": 4,
 "nbformat_minor": 0
}
